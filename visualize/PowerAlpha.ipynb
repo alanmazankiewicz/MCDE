{
 "cells": [
  {
   "cell_type": "code",
   "execution_count": 67,
   "metadata": {
    "ExecuteTime": {
     "end_time": "2018-11-10T17:05:11.436500Z",
     "start_time": "2018-11-10T17:05:11.413834Z"
    },
    "collapsed": true
   },
   "outputs": [],
   "source": [
    "import pandas\n",
    "import numpy as np\n",
    "\n",
    "import seaborn as sns\n",
    "import matplotlib\n",
    "import matplotlib.pyplot as plt\n",
    "from matplotlib.colors import LogNorm\n",
    "from matplotlib import rc\n",
    "\n",
    "rc('text', usetex=True)\n",
    "plt.style.use('seaborn-notebook')\n",
    "\n",
    "plt.rcParams['axes.titlesize'] = '25'\n",
    "plt.rcParams['axes.labelsize'] = '25'\n",
    "plt.rcParams['xtick.labelsize'] = '14'\n",
    "plt.rcParams['ytick.labelsize'] = '14'\n",
    "\n",
    "%matplotlib inline # change to notebook"
   ]
  },
  {
   "cell_type": "code",
   "execution_count": 68,
   "metadata": {
    "ExecuteTime": {
     "end_time": "2018-11-10T17:05:11.444545Z",
     "start_time": "2018-11-10T17:05:11.439921Z"
    },
    "collapsed": true
   },
   "outputs": [],
   "source": [
    "# Replace this variable accordingly \n",
    "path_to_results = \"../experiments/2018-11-06-13-48_PowerAlpha_/\""
   ]
  },
  {
   "cell_type": "code",
   "execution_count": 69,
   "metadata": {
    "ExecuteTime": {
     "end_time": "2018-11-10T17:05:12.497051Z",
     "start_time": "2018-11-10T17:05:11.448601Z"
    }
   },
   "outputs": [],
   "source": [
    "data = pandas.read_csv(path_to_results + \"PowerAlpha.csv\", header=0)\n",
    "data[\"category\"] = [x.split(\"-\")[0] for x in data[\"refId\"]]"
   ]
  },
  {
   "cell_type": "code",
   "execution_count": 70,
   "metadata": {
    "ExecuteTime": {
     "end_time": "2018-11-10T17:05:12.506574Z",
     "start_time": "2018-11-10T17:05:12.499188Z"
    }
   },
   "outputs": [
    {
     "data": {
      "text/plain": [
       "array([2, 3, 5])"
      ]
     },
     "execution_count": 70,
     "metadata": {},
     "output_type": "execute_result"
    }
   ],
   "source": [
    "data[\"nDim\"].unique()"
   ]
  },
  {
   "cell_type": "code",
   "execution_count": 71,
   "metadata": {
    "ExecuteTime": {
     "end_time": "2018-11-10T17:05:12.518957Z",
     "start_time": "2018-11-10T17:05:12.509502Z"
    }
   },
   "outputs": [
    {
     "data": {
      "text/plain": [
       "array([0.        , 0.03333333, 0.06666667, 0.1       , 0.13333333,\n",
       "       0.16666667, 0.2       , 0.23333333, 0.26666667, 0.3       ,\n",
       "       0.33333333, 0.36666667, 0.4       , 0.43333333, 0.46666667,\n",
       "       0.5       , 0.53333333, 0.56666667, 0.6       , 0.63333333,\n",
       "       0.66666667, 0.7       , 0.73333333, 0.76666667, 0.8       ,\n",
       "       0.83333333, 0.86666667, 0.9       , 0.93333333, 0.96666667,\n",
       "       1.        ])"
      ]
     },
     "execution_count": 71,
     "metadata": {},
     "output_type": "execute_result"
    }
   ],
   "source": [
    "data[\"noise\"].unique()"
   ]
  },
  {
   "cell_type": "code",
   "execution_count": 72,
   "metadata": {
    "ExecuteTime": {
     "end_time": "2018-11-10T17:05:12.540148Z",
     "start_time": "2018-11-10T17:05:12.521863Z"
    }
   },
   "outputs": [
    {
     "data": {
      "text/plain": [
       "array(['0', 'LinearThenDummy', 'LinearPeriodic_2', 'Linear', 'Sine_5',\n",
       "       'LinearSteps_20', 'LinearPeriodic_5', 'LinearPeriodic_10',\n",
       "       'Sine_2', 'LinearStairs_5', 'Hourglass', 'DoubleLinear_0.25',\n",
       "       'DoubleLinear_0.5', 'Sine_20', 'Cross', 'HyperSphere',\n",
       "       'NonCoexistence', 'Cubic_3', 'Sqrt_2', 'Parabolic_2',\n",
       "       'RandomSteps_10', 'LinearPeriodic_20', 'LinearThenNoise', 'Sqrt_1',\n",
       "       'LinearSteps_2', 'Sine_10', 'LinearStairs_10', 'RandomSteps_2',\n",
       "       'Parabolic_3', 'Sqrt_3', 'Cubic_1', 'RandomSteps_5',\n",
       "       'DoubleLinear_0.75', 'Parabolic_1', 'Hypercube', 'Cubic_2',\n",
       "       'RandomSteps_20', 'LinearStairs_2', 'StraightLines',\n",
       "       'LinearSteps_5', 'LinearSteps_10', 'LinearStairs_20', 'Z', 'Zinv',\n",
       "       'HypercubeGraph', 'Star', 'Independent', 'Sine_1'], dtype=object)"
      ]
     },
     "execution_count": 72,
     "metadata": {},
     "output_type": "execute_result"
    }
   ],
   "source": [
    "data[\"category\"].unique()"
   ]
  },
  {
   "cell_type": "code",
   "execution_count": 73,
   "metadata": {
    "ExecuteTime": {
     "end_time": "2018-11-10T17:05:12.559523Z",
     "start_time": "2018-11-10T17:05:12.543249Z"
    }
   },
   "outputs": [
    {
     "data": {
      "text/plain": [
       "array(['KS', 'MWP', 'MWPr'], dtype=object)"
      ]
     },
     "execution_count": 73,
     "metadata": {},
     "output_type": "execute_result"
    }
   ],
   "source": [
    "data['testId'].unique()"
   ]
  },
  {
   "cell_type": "code",
   "execution_count": 74,
   "metadata": {
    "ExecuteTime": {
     "end_time": "2018-11-10T17:05:12.566992Z",
     "start_time": "2018-11-10T17:05:12.562333Z"
    },
    "collapsed": true
   },
   "outputs": [],
   "source": [
    "selectedCategories = [\"Cross\", 'DoubleLinear_0.25', 'Hourglass', 'Hypercube', 'HypercubeGraph', 'HyperSphere',\n",
    "                     'Linear', 'Parabolic_1', 'Sine_1', 'Sine_5', 'Star', 'Independent', \"Zinv\"]"
   ]
  },
  {
   "cell_type": "code",
   "execution_count": 75,
   "metadata": {
    "ExecuteTime": {
     "end_time": "2018-11-10T17:05:12.580268Z",
     "start_time": "2018-11-10T17:05:12.569771Z"
    },
    "collapsed": true
   },
   "outputs": [],
   "source": [
    "selectedTests = data['testId'].unique()"
   ]
  },
  {
   "cell_type": "code",
   "execution_count": 76,
   "metadata": {
    "ExecuteTime": {
     "end_time": "2018-11-10T17:05:12.593402Z",
     "start_time": "2018-11-10T17:05:12.583570Z"
    },
    "collapsed": true
   },
   "outputs": [],
   "source": [
    "selecteCategoriesDict = {\n",
    "    'Linear' : \"L\",\n",
    "    'Sine_1' : \"S1\", \n",
    "    'Sine_5' : \"S5\", \n",
    "    'Hypercube' : \"Hc\", \n",
    "    'DoubleLinear_0.25': \"Dl\", \n",
    "    \"Cross\": \"C\",\n",
    "    'Hourglass' : \"H\", \n",
    "    'HyperSphere' : \"Hs\",\n",
    "    'Parabolic_1' : \"P\", \n",
    "    'Star' : \"St\",\n",
    "    'Zinv' : \"Zi\", \n",
    "    \"Independent\" : \"I\",\n",
    "    'HypercubeGraph' : \"HcG\", \n",
    "}"
   ]
  },
  {
   "cell_type": "code",
   "execution_count": 77,
   "metadata": {
    "ExecuteTime": {
     "end_time": "2018-11-10T17:05:12.964099Z",
     "start_time": "2018-11-10T17:05:12.596376Z"
    },
    "collapsed": true
   },
   "outputs": [],
   "source": [
    "selectedData = data[[str(x) in selectedCategories for x in data[\"category\"]]]\n",
    "selectedData = selectedData[[str(x) in selectedTests for x in selectedData[\"testId\"]]]\n",
    "selectedData[\"category\"] = [selecteCategoriesDict[x] for x in selectedData[\"category\"]]"
   ]
  },
  {
   "cell_type": "markdown",
   "metadata": {},
   "source": [
    "## Figure 4: MWP w.r.t. dimensionality d"
   ]
  },
  {
   "cell_type": "code",
   "execution_count": 78,
   "metadata": {
    "ExecuteTime": {
     "end_time": "2018-11-10T17:05:21.146651Z",
     "start_time": "2018-11-10T17:05:12.966635Z"
    }
   },
   "outputs": [
    {
     "name": "stderr",
     "output_type": "stream",
     "text": [
      "/Users/Mazan/anaconda/lib/python3.6/site-packages/matplotlib/figure.py:1743: UserWarning: This figure includes Axes that are not compatible with tight_layout, so its results might be incorrect.\n",
      "  warnings.warn(\"This figure includes Axes that are not \"\n"
     ]
    },
    {
     "data": {
      "image/png": "[encoded data removed]",
      "text/plain": [
       "<matplotlib.figure.Figure at 0x12475fe80>"
      ]
     },
     "metadata": {},
     "output_type": "display_data"
    }
   ],
   "source": [
    "fig, axes = plt.subplots(nrows=3, ncols=3, figsize=(10,12), sharey=True, sharex=True)\n",
    "axess = axes.reshape(-1)\n",
    "cbar_ax1 = fig.add_axes([.91, 0.672, .02, 0.28])\n",
    "cbar_ax2 = fig.add_axes([.91, 0.37, .02, 0.28])\n",
    "cbar_ax3 = fig.add_axes([.91, 0.07, .02, 0.28])\n",
    "test = \"MWP\"\n",
    "measure = \"avgContrast\"\n",
    "\n",
    "for i, ndim in enumerate([2,3,5]):\n",
    "    subdata = selectedData[(selectedData[\"testId\"] == test) & (selectedData[\"nDim\"] == ndim)]\n",
    "    d = subdata.groupby([\"noise\",\"category\"]).mean()[measure].reset_index()\n",
    "    dd = d.set_index([\"noise\", \"category\"]).unstack(\"noise\")\n",
    "    dd.columns = dd.columns.droplevel(0)\n",
    "    dd = dd.reindex(['C', \"Dl\", \"H\", \"Hc\", \"HcG\", 'Hs', 'L', 'P', 'S1', \"S5\", \"St\", \"Zi\", 'I'])\n",
    "\n",
    "    ax = axess[i]\n",
    "    \n",
    "    sns.heatmap(dd, vmin=0.5, vmax=1, cmap=sns.color_palette(\"RdBu\", 100), ax = ax, \n",
    "                xticklabels=3,\n",
    "                cbar=i == 0, cbar_ax=None if i else cbar_ax1)\n",
    "\n",
    "    ax.set_yticklabels([r'\\textbf{%s}'%x.get_text() for x in ax.get_yticklabels()], rotation=0)\n",
    "\n",
    "    ax.set_title(r'$d = %s$'%(ndim), y=1.04)\n",
    "    if(i == 0): \n",
    "        ax.set_ylabel(r'avg')\n",
    "    else:\n",
    "        ax.set_ylabel(\"\")\n",
    "    \n",
    "    sp = [\"\"]*int(((len(ax.get_xticklabels())-6)/5))\n",
    "\n",
    "    ax.set_xlabel(r'')\n",
    "    \n",
    "measure = \"stdContrast\"  \n",
    "for i, ndim in enumerate([2,3,5]):\n",
    "    subdata = selectedData[(selectedData[\"testId\"] == test) & (selectedData[\"nDim\"] == ndim)]\n",
    "    d = subdata.groupby([\"noise\",\"category\"]).mean()[measure].reset_index()\n",
    "    dd = d.set_index([\"noise\", \"category\"]).unstack(\"noise\")\n",
    "    dd.columns = dd.columns.droplevel(0)\n",
    "    dd = dd.reindex(['C', \"Dl\", \"H\", \"Hc\", \"HcG\", 'Hs', 'L', 'P', 'S1', \"S5\", \"St\", \"Zi\", 'I'])\n",
    "\n",
    "    ax = axess[i+3]\n",
    "    sns.heatmap(dd, vmin=0, vmax=0.10, cmap=sns.color_palette(\"RdBu\", 100), ax = ax, \n",
    "                xticklabels=3,\n",
    "                cbar=i == 0, cbar_ax=None if i else cbar_ax2)\n",
    "    \n",
    "    ax.set_yticklabels([r'\\textbf{%s}'%x.get_text() for x in ax.get_yticklabels()], rotation=0)\n",
    "\n",
    "    if(i == 0): \n",
    "        ax.set_ylabel(r'std')\n",
    "    else:\n",
    "        ax.set_ylabel(\"\")\n",
    "\n",
    "    sp = [\"\"]*int(((len(ax.get_xticklabels())-6)/5))\n",
    "    ax.set_xticklabels([\"0\"] + sp + [\"0.2\"] + sp + [\"0.4\"] + sp + [\"0.6\"] + sp + [\"0.8\"] + sp + [\"1\"])\n",
    "    ax.set_xlabel(r'')\n",
    "    \n",
    "measure = \"powerAt95\"  \n",
    "for i, ndim in enumerate([2,3,5]):\n",
    "    subdata = selectedData[(selectedData[\"testId\"] == test) & (selectedData[\"nDim\"] == ndim)]\n",
    "    d = subdata.groupby([\"noise\",\"category\"]).mean()[measure].reset_index()\n",
    "    dd = d.set_index([\"noise\", \"category\"]).unstack(\"noise\")\n",
    "    dd.columns = dd.columns.droplevel(0)\n",
    "    dd = dd.reindex(['C', \"Dl\", \"H\", \"Hc\", \"HcG\", 'Hs', 'L', 'P', 'S1', \"S5\", \"St\", \"Zi\", 'I'])\n",
    "    \n",
    "    ax = axess[i+6]\n",
    "    sns.heatmap(dd, vmin=0, vmax=1, cmap=sns.color_palette(\"RdBu\", 100), ax = ax, \n",
    "                xticklabels=3,\n",
    "                cbar=i == 0, cbar_ax=None if i else cbar_ax3)\n",
    "    \n",
    "    ax.set_yticklabels([r'\\textbf{%s}'%x.get_text() for x in ax.get_yticklabels()], rotation=0)\n",
    "\n",
    "    if(i == 0): \n",
    "        ax.set_ylabel(r'power')\n",
    "    else:\n",
    "        ax.set_ylabel(\"\")\n",
    "\n",
    "    labels = [format(float(x.get_text()), '.1f') for x in ax.get_xticklabels()]\n",
    "    labels[0] = \"0\"\n",
    "    labels[-1] = \"1\"\n",
    "    for x in range(1, len(labels), 2):\n",
    "        labels[x] = \"\"\n",
    "    ax.set_xticklabels(labels)\n",
    "\n",
    "    ax.set_xlabel('$\\sigma$')\n",
    "    \n",
    "plt.tight_layout(rect=[0, 0, .9, 1])\n",
    "\n",
    "fig.savefig(\"plots/Fig4.pdf\")"
   ]
  },
  {
   "cell_type": "markdown",
   "metadata": {},
   "source": [
    "## Figure 7: Power against each dependency"
   ]
  },
  {
   "cell_type": "code",
   "execution_count": 79,
   "metadata": {
    "ExecuteTime": {
     "end_time": "2018-11-10T17:05:30.036672Z",
     "start_time": "2018-11-10T17:05:21.152344Z"
    }
   },
   "outputs": [
    {
     "name": "stderr",
     "output_type": "stream",
     "text": [
      "/Users/Mazan/anaconda/lib/python3.6/site-packages/matplotlib/figure.py:1743: UserWarning: This figure includes Axes that are not compatible with tight_layout, so its results might be incorrect.\n",
      "  warnings.warn(\"This figure includes Axes that are not \"\n"
     ]
    },
    {
     "data": {
      "image/png": "[encoded data removed]",
      "text/plain": [
       "<matplotlib.figure.Figure at 0x12f0c1898>"
      ]
     },
     "metadata": {},
     "output_type": "display_data"
    }
   ],
   "source": [
    "fig, axes = plt.subplots(nrows=3, ncols=4, figsize=(11,8), sharey=True, sharex=True)\n",
    "axess = axes.reshape(-1)\n",
    "cbar_ax = fig.add_axes([.91, 0.058, .02, 0.88])\n",
    "\n",
    "measure = \"powerAt95\"\n",
    "nDim = 3\n",
    "\n",
    "for i, dep in enumerate(sorted([x for x in selectedData[\"category\"].unique() if x != \"I\"])):\n",
    "    subdata = selectedData[(selectedData[\"category\"] == dep) & (selectedData[\"nDim\"] == nDim)]\n",
    "    d = subdata.groupby([\"noise\",\"testId\"]).mean()[measure].reset_index()\n",
    "    dd = d.set_index([\"noise\", \"testId\"]).unstack(\"noise\")\n",
    "    dd.columns = dd.columns.droplevel(0)\n",
    "    dd = dd.reindex(['MWP', 'TC', 'II', 'HiCS', 'MS', 'UDS', 'MAC', 'CMI'])\n",
    "    dd = np.absolute(dd)\n",
    "\n",
    "    ax = axess[i]\n",
    "    \n",
    "    sns.heatmap(dd, cmap=sns.color_palette(\"RdBu\", 100), ax = ax, vmin=0, vmax=1,\n",
    "                xticklabels=3,\n",
    "                cbar=i == 0, cbar_ax=None if i else cbar_ax)\n",
    "\n",
    "    ax.set_yticklabels([r'\\textbf{%s}'%x.get_text() for x in ax.get_yticklabels()], rotation=0)\n",
    "\n",
    "    ax.set_title(r'%s'%(dep), y=1.02)\n",
    "    ax.set_ylabel(\"\")\n",
    "    \n",
    "    labels = [\"\" for x in ax.get_xticklabels()]\n",
    "    labels[0] = \"0\"\n",
    "    labels[-1] = \"1\"\n",
    "    for x in range(1, len(labels), 2):\n",
    "        labels[x] = \"\"\n",
    "    labels[int(len(labels)/2)] = r'$\\leftarrow \\sigma \\rightarrow $'\n",
    "    ax.set_xticklabels(labels)\n",
    "    ax.set_xlabel('')\n",
    "    \n",
    "plt.tight_layout(rect=[0, 0, .9, 1])\n",
    "\n",
    "fig.savefig(\"plots/Fig7_d3.pdf\")"
   ]
  },
  {
   "cell_type": "code",
   "execution_count": 80,
   "metadata": {
    "ExecuteTime": {
     "end_time": "2018-11-10T17:05:39.117181Z",
     "start_time": "2018-11-10T17:05:30.042630Z"
    }
   },
   "outputs": [
    {
     "name": "stderr",
     "output_type": "stream",
     "text": [
      "/Users/Mazan/anaconda/lib/python3.6/site-packages/matplotlib/figure.py:1743: UserWarning: This figure includes Axes that are not compatible with tight_layout, so its results might be incorrect.\n",
      "  warnings.warn(\"This figure includes Axes that are not \"\n"
     ]
    },
    {
     "data": {
      "image/png": "[encoded data removed]",
      "text/plain": [
       "<matplotlib.figure.Figure at 0x1255dd0b8>"
      ]
     },
     "metadata": {},
     "output_type": "display_data"
    }
   ],
   "source": [
    "fig, axes = plt.subplots(nrows=3, ncols=4, figsize=(11,8), sharey=True, sharex=True)\n",
    "axess = axes.reshape(-1)\n",
    "cbar_ax = fig.add_axes([.91, 0.058, .02, 0.88])\n",
    "\n",
    "measure = \"powerAt95\"\n",
    "nDim = 5\n",
    "\n",
    "for i, dep in enumerate(sorted([x for x in selectedData[\"category\"].unique() if x != \"I\"])):\n",
    "    subdata = selectedData[(selectedData[\"category\"] == dep) & (selectedData[\"nDim\"] == nDim)]\n",
    "    d = subdata.groupby([\"noise\",\"testId\"]).mean()[measure].reset_index()\n",
    "    dd = d.set_index([\"noise\", \"testId\"]).unstack(\"noise\")\n",
    "    dd.columns = dd.columns.droplevel(0)\n",
    "    dd = dd.reindex(['MWP', 'TC', 'II', 'HiCS', 'MS', 'UDS', 'MAC', 'CMI'])\n",
    "    dd = np.absolute(dd)\n",
    "\n",
    "    ax = axess[i]\n",
    "    \n",
    "    sns.heatmap(dd, cmap=sns.color_palette(\"RdBu\", 100), ax = ax, vmin=0, vmax=1,\n",
    "                xticklabels=3,\n",
    "                cbar=i == 0, cbar_ax=None if i else cbar_ax)\n",
    "\n",
    "    ax.set_yticklabels([r'\\textbf{%s}'%x.get_text() for x in ax.get_yticklabels()], rotation=0)\n",
    "\n",
    "    ax.set_title(r'%s'%(dep), y=1.02)\n",
    "    ax.set_ylabel(\"\")\n",
    "    \n",
    "    labels = [\"\" for x in ax.get_xticklabels()]\n",
    "    labels[0] = \"0\"\n",
    "    labels[-1] = \"1\"\n",
    "    for x in range(1, len(labels), 2):\n",
    "        labels[x] = \"\"\n",
    "    labels[int(len(labels)/2)] = r'$\\leftarrow \\sigma \\rightarrow $'\n",
    "    ax.set_xticklabels(labels)\n",
    "    ax.set_xlabel('')\n",
    "    \n",
    "plt.tight_layout(rect=[0, 0, .9, 1])\n",
    "\n",
    "fig.savefig(\"plots/Fig7_d5.pdf\")"
   ]
  },
  {
   "cell_type": "markdown",
   "metadata": {},
   "source": [
    "## Figure 6: Distribution of dependency estimation scores, d=3"
   ]
  },
  {
   "cell_type": "code",
   "execution_count": 81,
   "metadata": {
    "ExecuteTime": {
     "end_time": "2018-11-10T17:05:44.615973Z",
     "start_time": "2018-11-10T17:05:39.133620Z"
    },
    "scrolled": true
   },
   "outputs": [
    {
     "ename": "ValueError",
     "evalue": "zero-size array to reduction operation maximum which has no identity",
     "output_type": "error",
     "traceback": [
      "\u001b[0;31m---------------------------------------------------------------------------\u001b[0m",
      "\u001b[0;31mValueError\u001b[0m                                Traceback (most recent call last)",
      "\u001b[0;32m<ipython-input-81-5cd5ad9b96c6>\u001b[0m in \u001b[0;36m<module>\u001b[0;34m()\u001b[0m\n\u001b[1;32m     40\u001b[0m                     \u001b[0mnorm\u001b[0m\u001b[0;34m=\u001b[0m\u001b[0mLogNorm\u001b[0m\u001b[0;34m(\u001b[0m\u001b[0mvmin\u001b[0m\u001b[0;34m=\u001b[0m\u001b[0mdd\u001b[0m\u001b[0;34m.\u001b[0m\u001b[0mmin\u001b[0m\u001b[0;34m(\u001b[0m\u001b[0;34m)\u001b[0m\u001b[0;34m.\u001b[0m\u001b[0mmin\u001b[0m\u001b[0;34m(\u001b[0m\u001b[0;34m)\u001b[0m\u001b[0;34m,\u001b[0m \u001b[0mvmax\u001b[0m\u001b[0;34m=\u001b[0m\u001b[0mdd\u001b[0m\u001b[0;34m.\u001b[0m\u001b[0mmax\u001b[0m\u001b[0;34m(\u001b[0m\u001b[0;34m)\u001b[0m\u001b[0;34m.\u001b[0m\u001b[0mmax\u001b[0m\u001b[0;34m(\u001b[0m\u001b[0;34m)\u001b[0m\u001b[0;34m)\u001b[0m\u001b[0;34m,\u001b[0m\u001b[0;34m\u001b[0m\u001b[0m\n\u001b[1;32m     41\u001b[0m                     \u001b[0mcbar_kws\u001b[0m\u001b[0;34m=\u001b[0m\u001b[0;34m{\u001b[0m\u001b[0;34m\"ticks\"\u001b[0m\u001b[0;34m:\u001b[0m\u001b[0;34m[\u001b[0m\u001b[0;36m0.001\u001b[0m\u001b[0;34m,\u001b[0m \u001b[0;36m0.01\u001b[0m\u001b[0;34m,\u001b[0m\u001b[0;36m0.01\u001b[0m\u001b[0;34m,\u001b[0m\u001b[0;36m0.1\u001b[0m\u001b[0;34m,\u001b[0m\u001b[0;36m0\u001b[0m\u001b[0;34m,\u001b[0m\u001b[0;36m1\u001b[0m\u001b[0;34m,\u001b[0m\u001b[0;36m10\u001b[0m\u001b[0;34m,\u001b[0m\u001b[0;36m1e2\u001b[0m\u001b[0;34m]\u001b[0m\u001b[0;34m}\u001b[0m\u001b[0;34m,\u001b[0m\u001b[0;34m\u001b[0m\u001b[0m\n\u001b[0;32m---> 42\u001b[0;31m                 vmin = 0.001)\n\u001b[0m\u001b[1;32m     43\u001b[0m     \u001b[0;32melif\u001b[0m\u001b[0;34m(\u001b[0m\u001b[0mtestId\u001b[0m \u001b[0;34m==\u001b[0m \u001b[0;34m\"MS\"\u001b[0m\u001b[0;34m)\u001b[0m\u001b[0;34m:\u001b[0m\u001b[0;34m\u001b[0m\u001b[0m\n\u001b[1;32m     44\u001b[0m         sns.heatmap(dd,  cmap=sns.color_palette(\"RdBu\", 100), \n",
      "\u001b[0;32m/Users/Mazan/anaconda/lib/python3.6/site-packages/seaborn/matrix.py\u001b[0m in \u001b[0;36mheatmap\u001b[0;34m(data, vmin, vmax, cmap, center, robust, annot, fmt, annot_kws, linewidths, linecolor, cbar, cbar_kws, cbar_ax, square, xticklabels, yticklabels, mask, ax, **kwargs)\u001b[0m\n\u001b[1;32m    515\u001b[0m     plotter = _HeatMapper(data, vmin, vmax, cmap, center, robust, annot, fmt,\n\u001b[1;32m    516\u001b[0m                           \u001b[0mannot_kws\u001b[0m\u001b[0;34m,\u001b[0m \u001b[0mcbar\u001b[0m\u001b[0;34m,\u001b[0m \u001b[0mcbar_kws\u001b[0m\u001b[0;34m,\u001b[0m \u001b[0mxticklabels\u001b[0m\u001b[0;34m,\u001b[0m\u001b[0;34m\u001b[0m\u001b[0m\n\u001b[0;32m--> 517\u001b[0;31m                           yticklabels, mask)\n\u001b[0m\u001b[1;32m    518\u001b[0m \u001b[0;34m\u001b[0m\u001b[0m\n\u001b[1;32m    519\u001b[0m     \u001b[0;31m# Add the pcolormesh kwargs here\u001b[0m\u001b[0;34m\u001b[0m\u001b[0;34m\u001b[0m\u001b[0m\n",
      "\u001b[0;32m/Users/Mazan/anaconda/lib/python3.6/site-packages/seaborn/matrix.py\u001b[0m in \u001b[0;36m__init__\u001b[0;34m(self, data, vmin, vmax, cmap, center, robust, annot, fmt, annot_kws, cbar, cbar_kws, xticklabels, yticklabels, mask)\u001b[0m\n\u001b[1;32m    166\u001b[0m         \u001b[0;31m# Determine good default values for the colormapping\u001b[0m\u001b[0;34m\u001b[0m\u001b[0;34m\u001b[0m\u001b[0m\n\u001b[1;32m    167\u001b[0m         self._determine_cmap_params(plot_data, vmin, vmax,\n\u001b[0;32m--> 168\u001b[0;31m                                     cmap, center, robust)\n\u001b[0m\u001b[1;32m    169\u001b[0m \u001b[0;34m\u001b[0m\u001b[0m\n\u001b[1;32m    170\u001b[0m         \u001b[0;31m# Sort out the annotations\u001b[0m\u001b[0;34m\u001b[0m\u001b[0;34m\u001b[0m\u001b[0m\n",
      "\u001b[0;32m/Users/Mazan/anaconda/lib/python3.6/site-packages/seaborn/matrix.py\u001b[0m in \u001b[0;36m_determine_cmap_params\u001b[0;34m(self, plot_data, vmin, vmax, cmap, center, robust)\u001b[0m\n\u001b[1;32m    207\u001b[0m             \u001b[0mvmin\u001b[0m \u001b[0;34m=\u001b[0m \u001b[0mnp\u001b[0m\u001b[0;34m.\u001b[0m\u001b[0mpercentile\u001b[0m\u001b[0;34m(\u001b[0m\u001b[0mcalc_data\u001b[0m\u001b[0;34m,\u001b[0m \u001b[0;36m2\u001b[0m\u001b[0;34m)\u001b[0m \u001b[0;32mif\u001b[0m \u001b[0mrobust\u001b[0m \u001b[0;32melse\u001b[0m \u001b[0mcalc_data\u001b[0m\u001b[0;34m.\u001b[0m\u001b[0mmin\u001b[0m\u001b[0;34m(\u001b[0m\u001b[0;34m)\u001b[0m\u001b[0;34m\u001b[0m\u001b[0m\n\u001b[1;32m    208\u001b[0m         \u001b[0;32mif\u001b[0m \u001b[0mvmax\u001b[0m \u001b[0;32mis\u001b[0m \u001b[0;32mNone\u001b[0m\u001b[0;34m:\u001b[0m\u001b[0;34m\u001b[0m\u001b[0m\n\u001b[0;32m--> 209\u001b[0;31m             \u001b[0mvmax\u001b[0m \u001b[0;34m=\u001b[0m \u001b[0mnp\u001b[0m\u001b[0;34m.\u001b[0m\u001b[0mpercentile\u001b[0m\u001b[0;34m(\u001b[0m\u001b[0mcalc_data\u001b[0m\u001b[0;34m,\u001b[0m \u001b[0;36m98\u001b[0m\u001b[0;34m)\u001b[0m \u001b[0;32mif\u001b[0m \u001b[0mrobust\u001b[0m \u001b[0;32melse\u001b[0m \u001b[0mcalc_data\u001b[0m\u001b[0;34m.\u001b[0m\u001b[0mmax\u001b[0m\u001b[0;34m(\u001b[0m\u001b[0;34m)\u001b[0m\u001b[0;34m\u001b[0m\u001b[0m\n\u001b[0m\u001b[1;32m    210\u001b[0m         \u001b[0mself\u001b[0m\u001b[0;34m.\u001b[0m\u001b[0mvmin\u001b[0m\u001b[0;34m,\u001b[0m \u001b[0mself\u001b[0m\u001b[0;34m.\u001b[0m\u001b[0mvmax\u001b[0m \u001b[0;34m=\u001b[0m \u001b[0mvmin\u001b[0m\u001b[0;34m,\u001b[0m \u001b[0mvmax\u001b[0m\u001b[0;34m\u001b[0m\u001b[0m\n\u001b[1;32m    211\u001b[0m \u001b[0;34m\u001b[0m\u001b[0m\n",
      "\u001b[0;32m/Users/Mazan/.local/lib/python3.6/site-packages/numpy/core/_methods.py\u001b[0m in \u001b[0;36m_amax\u001b[0;34m(a, axis, out, keepdims, initial)\u001b[0m\n\u001b[1;32m     26\u001b[0m def _amax(a, axis=None, out=None, keepdims=False,\n\u001b[1;32m     27\u001b[0m           initial=_NoValue):\n\u001b[0;32m---> 28\u001b[0;31m     \u001b[0;32mreturn\u001b[0m \u001b[0mumr_maximum\u001b[0m\u001b[0;34m(\u001b[0m\u001b[0ma\u001b[0m\u001b[0;34m,\u001b[0m \u001b[0maxis\u001b[0m\u001b[0;34m,\u001b[0m \u001b[0;32mNone\u001b[0m\u001b[0;34m,\u001b[0m \u001b[0mout\u001b[0m\u001b[0;34m,\u001b[0m \u001b[0mkeepdims\u001b[0m\u001b[0;34m,\u001b[0m \u001b[0minitial\u001b[0m\u001b[0;34m)\u001b[0m\u001b[0;34m\u001b[0m\u001b[0m\n\u001b[0m\u001b[1;32m     29\u001b[0m \u001b[0;34m\u001b[0m\u001b[0m\n\u001b[1;32m     30\u001b[0m def _amin(a, axis=None, out=None, keepdims=False,\n",
      "\u001b[0;31mValueError\u001b[0m: zero-size array to reduction operation maximum which has no identity"
     ]
    },
    {
     "data": {
      "image/png": "[encoded data removed]",
      "text/plain": [
       "<matplotlib.figure.Figure at 0x12e1d63c8>"
      ]
     },
     "metadata": {},
     "output_type": "display_data"
    }
   ],
   "source": [
    "measure = \"avgContrast\"\n",
    "\n",
    "fig, axes = plt.subplots(nrows=2, ncols=8, figsize=(23,8), sharey=True, sharex=True)\n",
    "axess = axes.reshape(-1)\n",
    "nDim = 3\n",
    "\n",
    "testlist = ['MWP', 'TC', 'II', 'HiCS', 'MS', 'UDS', 'MAC', 'CMI']\n",
    "\n",
    "for i,testId in enumerate(testlist):\n",
    "    subdata = selectedData[(selectedData[\"testId\"] == testId)  & (selectedData[\"nDim\"] == nDim)]\n",
    "    d = subdata.groupby([\"noise\",\"category\"]).mean()[measure].reset_index()\n",
    "    dd = d.set_index([\"noise\", \"category\"]).unstack(\"noise\")\n",
    "    dd.columns = dd.columns.droplevel(0)\n",
    "    dd = dd.reindex(['C', \"Dl\", \"H\", \"Hc\", \"HcG\", 'Hs', 'L', 'P', 'S1', \"S5\", \"St\", \"Zi\", 'I'])\n",
    "    \n",
    "    ax = axess[i]\n",
    "    \n",
    "    dd = np.absolute(dd)\n",
    "    \n",
    "    if(testId == \"MWP\"):\n",
    "        sns.heatmap(dd,  cmap=sns.color_palette(\"RdBu\", 100), \n",
    "                    xticklabels=[format(x, '.2f') for x in dd.columns.values.round(2)], \n",
    "                    ax=ax, vmax=1)\n",
    "    elif(testId == \"II\"):\n",
    "        dd = np.absolute(dd)\n",
    "        sns.heatmap(dd,  cmap=sns.color_palette(\"RdBu\", 100), \n",
    "                    ax=ax,\n",
    "                    norm=LogNorm(vmin=dd.min().min(), vmax=dd.max().max()),\n",
    "                    cbar_kws={\"ticks\":[0.001, 0.01, 0.01, 0.1,0,1,10,1e2]},\n",
    "                    vmin=0.001)\n",
    "\n",
    "        ax.scatter(3, 2.5, marker=\"+\", s=50, color='black', alpha=0.7)\n",
    "        ax.scatter(3, 3.5, marker=\"+\", s=50, color='black', alpha=0.7)\n",
    "        ax.scatter(3, 5.5, marker=\"+\", s=50, color='black', alpha=0.7)\n",
    "        ax.scatter(3, 11.5, marker=\"+\", s=50, color='black', alpha=0.7)\n",
    "        ax.scatter(3, 12.5, marker=\"+\", s=50, color='black', alpha=0.7)\n",
    "    elif(testId == \"TC\"):\n",
    "        sns.heatmap(dd,  cmap=sns.color_palette(\"RdBu\", 100), \n",
    "                    xticklabels=[format(x, '.2f') for x in dd.columns.values.round(2)], ax=ax, \n",
    "                    norm=LogNorm(vmin=dd.min().min(), vmax=dd.max().max()),\n",
    "                    cbar_kws={\"ticks\":[0.001, 0.01,0.01,0.1,0,1,10,1e2]},\n",
    "                vmin = 0.001)\n",
    "    elif(testId == \"MS\"):\n",
    "        sns.heatmap(dd,  cmap=sns.color_palette(\"RdBu\", 100), \n",
    "                    xticklabels=[format(x, '.2f') for x in dd.columns.values.round(2)], \n",
    "                    ax=ax, vmax=1, vmin=0)\n",
    "    else:\n",
    "        sns.heatmap(dd,  cmap=sns.color_palette(\"RdBu\", 100), vmax=dd.max().max(), \n",
    "        xticklabels=[format(x, '.2f') for x in dd.columns.values.round(2)], ax=ax)\n",
    "    \n",
    "\n",
    "    ax.set_yticklabels([r'\\textbf{%s}'%x.get_text() for x in ax.get_yticklabels()], rotation=0)\n",
    "    \n",
    "    ax.set_title(r'%s'%(testId))\n",
    "    ax.set_ylabel(\"\")\n",
    "    \n",
    "    sp = [\"\"]*int(((len(ax.get_xticklabels())-6)/5))\n",
    "    ax.set_xticklabels([\"0\"] + sp + [\"0.2\"] + sp + [\"0.4\"] + sp + [\"0.6\"] + sp + [\"0.8\"] + sp + [\"1\"])\n",
    "    \n",
    "    ax.set_xlabel(\"\")\n",
    "    if(i==0):\n",
    "        ax.set_ylabel(\"avg\")\n",
    "    else:\n",
    "        ax.set_ylabel(\"\")\n",
    "\n",
    "measure=\"stdContrast\"\n",
    "for i,testId in enumerate(testlist):\n",
    "    subdata = selectedData[(selectedData[\"testId\"] == testId)  & (selectedData[\"nDim\"] == nDim)]\n",
    "    d = subdata.groupby([\"noise\",\"category\"]).mean()[measure].reset_index()\n",
    "    dd = d.set_index([\"noise\", \"category\"]).unstack(\"noise\")\n",
    "    dd.columns = dd.columns.droplevel(0)\n",
    "    dd = dd.reindex(['C', 'Dl', 'H', 'Hc', 'HcG', 'Hs', 'L', 'P', 'S1', 'S5', 'St', 'Zi', \"I\"])\n",
    "    \n",
    "    ax = axess[i+8]\n",
    "    \n",
    "    dd = np.absolute(dd)\n",
    "    \n",
    "    if(testId == \"CMI\"): \n",
    "        sns.heatmap(dd,  cmap=sns.color_palette(\"RdBu\", 100), cbar_kws={'format': '$%.3f$'},\n",
    "                xticklabels=[format(x, '.2f') for x in dd.columns.values.round(2)], ax=ax)\n",
    "    elif(testId == \"MWP\"):\n",
    "        sns.heatmap(dd,  cmap=sns.color_palette(\"RdBu\", 100), cbar_kws={'format': '$%.2f$'},\n",
    "                xticklabels=[format(x, '.2f') for x in dd.columns.values.round(2)], ax=ax)\n",
    "    elif(testId == \"UDS\"):\n",
    "        sns.heatmap(dd,  cmap=sns.color_palette(\"RdBu\", 100), cbar_kws={'format': '$%.2f$'},\n",
    "                xticklabels=[format(x, '.2f') for x in dd.columns.values.round(2)], ax=ax)\n",
    "    else:\n",
    "        sns.heatmap(dd,  cmap=sns.color_palette(\"RdBu\", 100),\n",
    "                xticklabels=[format(x, '.2f') for x in dd.columns.values.round(2)], ax=ax)\n",
    "    \n",
    "    ax.set_yticklabels([r'\\textbf{%s}'%x.get_text() for x in ax.get_yticklabels()], rotation=0)\n",
    "    \n",
    "    ax.set_title(\"\")\n",
    "    ax.set_ylabel(\"\")\n",
    "    \n",
    "    labels = [\"\" for x in ax.get_xticklabels()]\n",
    "    labels[0] = \"0\"\n",
    "    labels[-1] = \"1\"\n",
    "    for x in range(1, len(labels), 2):\n",
    "        labels[x] = \"\"\n",
    "    labels[int(len(labels)/2)] = r'$\\leftarrow \\sigma \\rightarrow $'\n",
    "    ax.set_xticklabels(labels)\n",
    "    ax.set_xlabel('')\n",
    "    \n",
    "    if(i==0):\n",
    "        ax.set_ylabel(\"std\")\n",
    "    else:\n",
    "        ax.set_ylabel(\"\")\n",
    "    \n",
    "plt.tight_layout()\n",
    "\n",
    "fig.savefig(\"plots/Fig6.pdf\")"
   ]
  },
  {
   "cell_type": "markdown",
   "metadata": {},
   "source": [
    "### Larger plots for Fig6"
   ]
  },
  {
   "cell_type": "code",
   "execution_count": null,
   "metadata": {
    "ExecuteTime": {
     "end_time": "2018-11-10T17:05:44.617749Z",
     "start_time": "2018-11-10T17:05:11.452Z"
    },
    "scrolled": false
   },
   "outputs": [],
   "source": [
    "measure = \"avgContrast\"\n",
    "\n",
    "fig, axes = plt.subplots(nrows=2, ncols=4, figsize=(20,8), sharey=True, sharex=True)\n",
    "axess = axes.reshape(-1)\n",
    "nDim = 3\n",
    "\n",
    "testlist1 = ['MWP', 'TC', 'II', 'HiCS']\n",
    "\n",
    "for i,testId in enumerate(testlist1):\n",
    "    subdata = selectedData[(selectedData[\"testId\"] == testId)  & (selectedData[\"nDim\"] == nDim)]\n",
    "    d = subdata.groupby([\"noise\",\"category\"]).mean()[measure].reset_index()\n",
    "    dd = d.set_index([\"noise\", \"category\"]).unstack(\"noise\")\n",
    "    dd.columns = dd.columns.droplevel(0)\n",
    "    dd = dd.reindex(['C', \"Dl\", \"H\", \"Hc\", \"HcG\", 'Hs', 'L', 'P', 'S1', \"S5\", \"St\", \"Zi\", 'I'])\n",
    "\n",
    "    ax = axess[i]\n",
    "    \n",
    "    dd = np.absolute(dd)\n",
    "\n",
    "    if(testId == \"MWP\"):\n",
    "        sns.heatmap(dd,  cmap=sns.color_palette(\"RdBu\", 100), \n",
    "                    xticklabels=3, \n",
    "                    ax=ax, vmax=1)\n",
    "    elif(testId == \"II\"):\n",
    "        dd = np.absolute(dd)\n",
    "        sns.heatmap(dd,  cmap=sns.color_palette(\"RdBu\", 100), \n",
    "                    xticklabels=3,\n",
    "                    ax=ax,\n",
    "                    norm=LogNorm(vmin=dd.min().min(), vmax=dd.max().max()),\n",
    "                    cbar_kws={\"ticks\":[0.001, 0.01, 0.01, 0.1,0,1,10,1e2]},\n",
    "                    vmin=0.001)\n",
    "        ax.scatter(3, 2.5, marker=\"+\", s=50, color='black', alpha=0.7)\n",
    "        ax.scatter(3, 3.5, marker=\"+\", s=50, color='black', alpha=0.7)\n",
    "        ax.scatter(3, 5.5, marker=\"+\", s=50, color='black', alpha=0.7)\n",
    "        ax.scatter(3, 11.5, marker=\"+\", s=50, color='black', alpha=0.7)\n",
    "        ax.scatter(3, 12.5, marker=\"+\", s=50, color='black', alpha=0.7)\n",
    "    elif(testId == \"TC\"):\n",
    "        sns.heatmap(dd,  cmap=sns.color_palette(\"RdBu\", 100), \n",
    "                    xticklabels=3, ax=ax, \n",
    "                    norm=LogNorm(vmin=dd.min().min(), vmax=dd.max().max()),\n",
    "                    cbar_kws={\"ticks\":[0.001, 0.01,0.01,0.1,0,1,10,1e2]},\n",
    "                vmin = 0.001)\n",
    "    elif(testId == \"MS\"):\n",
    "        sns.heatmap(dd,  cmap=sns.color_palette(\"RdBu\", 100), \n",
    "                    xticklabels=3, \n",
    "                    ax=ax, vmax=1, vmin=0)\n",
    "    else:\n",
    "        sns.heatmap(dd,  cmap=sns.color_palette(\"RdBu\", 100), vmax=dd.max().max(), \n",
    "        xticklabels=3, ax=ax)\n",
    "    \n",
    "\n",
    "    ax.set_yticklabels([r'\\textbf{%s}'%x.get_text() for x in ax.get_yticklabels()], rotation=0)\n",
    "    \n",
    "    ax.set_title(r'%s'%(testId))\n",
    "    ax.set_ylabel(\"\")\n",
    "    \n",
    "    sp = [\"\"]*int(((len(ax.get_xticklabels())-6)/5))\n",
    "    ax.set_xticklabels([\"0\"] + sp + [\"0.2\"] + sp + [\"0.4\"] + sp + [\"0.6\"] + sp + [\"0.8\"] + sp + [\"1\"])\n",
    "    \n",
    "    ax.set_xlabel(\"\")\n",
    "    if(i==0):\n",
    "        ax.set_ylabel(\"avg\")\n",
    "    else:\n",
    "        ax.set_ylabel(\"\")\n",
    "\n",
    "measure=\"stdContrast\"\n",
    "for i,testId in enumerate(testlist1):\n",
    "    subdata = selectedData[(selectedData[\"testId\"] == testId)  & (selectedData[\"nDim\"] == nDim)]\n",
    "    d = subdata.groupby([\"noise\",\"category\"]).mean()[measure].reset_index()\n",
    "    dd = d.set_index([\"noise\", \"category\"]).unstack(\"noise\")\n",
    "    dd.columns = dd.columns.droplevel(0)\n",
    "    dd = dd.reindex(['C', \"Dl\", \"H\", \"Hc\", \"HcG\", 'Hs', 'L', 'P', 'S1', \"S5\", \"St\", \"Zi\", 'I'])\n",
    "    \n",
    "    ax = axess[i+4]\n",
    "    \n",
    "    dd = np.absolute(dd)\n",
    "    \n",
    "    if(testId == \"CMI\"): \n",
    "        sns.heatmap(dd,  cmap=sns.color_palette(\"RdBu\", 100), cbar_kws={'format': '$%.3f$'},\n",
    "                xticklabels=3, ax=ax)\n",
    "    elif(testId == \"MWP\"):\n",
    "        sns.heatmap(dd,  cmap=sns.color_palette(\"RdBu\", 100), cbar_kws={'format': '$%.2f$'},\n",
    "                xticklabels=3, ax=ax)\n",
    "    elif(testId == \"UDS\"):\n",
    "        sns.heatmap(dd,  cmap=sns.color_palette(\"RdBu\", 100), cbar_kws={'format': '$%.2f$'},\n",
    "                xticklabels=3, ax=ax)\n",
    "    else:\n",
    "        sns.heatmap(dd,  cmap=sns.color_palette(\"RdBu\", 100),\n",
    "                xticklabels=3, ax=ax)\n",
    "    \n",
    "    ax.set_yticklabels([r'\\textbf{%s}'%x.get_text() for x in ax.get_yticklabels()], rotation=0)\n",
    "    \n",
    "    ax.set_title(\"\")\n",
    "    ax.set_ylabel(\"\")\n",
    "    \n",
    "    labels = [format(float(x.get_text()), '.1f') for x in ax.get_xticklabels()]\n",
    "    labels[0] = \"0\"\n",
    "    labels[-1] = \"1\"\n",
    "    for x in range(1, len(labels), 2):\n",
    "        labels[x] = \"\"\n",
    "    ax.set_xticklabels(labels)\n",
    "\n",
    "    ax.set_xlabel(r'$\\sigma$')\n",
    "    \n",
    "    if(i==0):\n",
    "        ax.set_ylabel(\"std\")\n",
    "    else:\n",
    "        ax.set_ylabel(\"\")\n",
    "\n",
    "\n",
    "plt.tight_layout()\n",
    "\n",
    "fig.savefig(\"plots/Fig6_large_1.pdf\")"
   ]
  },
  {
   "cell_type": "code",
   "execution_count": null,
   "metadata": {
    "ExecuteTime": {
     "end_time": "2018-11-10T17:05:44.619996Z",
     "start_time": "2018-11-10T17:05:11.455Z"
    }
   },
   "outputs": [],
   "source": [
    "measure = \"avgContrast\"\n",
    "\n",
    "fig, axes = plt.subplots(nrows=2, ncols=4, figsize=(20,8), sharey=True, sharex=True)\n",
    "axess = axes.reshape(-1)\n",
    "nDim = 3\n",
    "\n",
    "testlist1 = ['MS', 'UDS', 'MAC', 'CMI']\n",
    "\n",
    "for i,testId in enumerate(testlist1):\n",
    "    subdata = selectedData[(selectedData[\"testId\"] == testId)  & (selectedData[\"nDim\"] == nDim)]\n",
    "    d = subdata.groupby([\"noise\",\"category\"]).mean()[measure].reset_index()\n",
    "    dd = d.set_index([\"noise\", \"category\"]).unstack(\"noise\")\n",
    "    dd.columns = dd.columns.droplevel(0)\n",
    "    dd = dd.reindex(['C', \"Dl\", \"H\", \"Hc\", \"HcG\", 'Hs', 'L', 'P', 'S1', \"S5\", \"St\", \"Zi\", 'I'])\n",
    "\n",
    "    ax = axess[i]\n",
    "    \n",
    "    dd = np.absolute(dd)\n",
    "    \n",
    "    if(testId == \"MWP\"):\n",
    "        sns.heatmap(dd,  cmap=sns.color_palette(\"RdBu\", 100), \n",
    "                    xticklabels=3, \n",
    "                    ax=ax, vmax=1)\n",
    "    elif(testId == \"II\"):\n",
    "\n",
    "        dd = np.absolute(dd)\n",
    "        sns.heatmap(dd,  cmap=sns.color_palette(\"RdBu\", 100), \n",
    "                    xticklabels=3,\n",
    "                    ax=ax,\n",
    "                    norm=LogNorm(vmin=dd.min().min(), vmax=dd.max().max()),\n",
    "                    cbar_kws={\"ticks\":[0.001, 0.01, 0.01, 0.1,0,1,10,1e2]},\n",
    "                    vmin=0.001)\n",
    "        ax.scatter(3, 2.5, marker=\"+\", s=50, color='black', alpha=0.7)\n",
    "        ax.scatter(3, 3.5, marker=\"+\", s=50, color='black', alpha=0.7)\n",
    "        ax.scatter(3, 5.5, marker=\"+\", s=50, color='black', alpha=0.7)\n",
    "        ax.scatter(3, 11.5, marker=\"+\", s=50, color='black', alpha=0.7)\n",
    "        ax.scatter(3, 12.5, marker=\"+\", s=50, color='black', alpha=0.7)\n",
    "    elif(testId == \"TC\"):\n",
    "        sns.heatmap(dd,  cmap=sns.color_palette(\"RdBu\", 100), \n",
    "                    xticklabels=3, ax=ax, \n",
    "                    norm=LogNorm(vmin=dd.min().min(), vmax=dd.max().max()),\n",
    "                    cbar_kws={\"ticks\":[0.001, 0.01,0.01,0.1,0,1,10,1e2]},\n",
    "                vmin = 0.001)\n",
    "    elif(testId == \"MS\"):\n",
    "        sns.heatmap(dd,  cmap=sns.color_palette(\"RdBu\", 100), \n",
    "                    xticklabels=3, \n",
    "                    ax=ax, vmax=1, vmin=0)\n",
    "    else:\n",
    "        sns.heatmap(dd,  cmap=sns.color_palette(\"RdBu\", 100), vmax=dd.max().max(), \n",
    "        xticklabels=3, ax=ax)\n",
    "    \n",
    "\n",
    "    ax.set_yticklabels([r'\\textbf{%s}'%x.get_text() for x in ax.get_yticklabels()], rotation=0)\n",
    "    \n",
    "    ax.set_title(r'%s'%(testId))\n",
    "    ax.set_ylabel(\"\")\n",
    "    \n",
    "    sp = [\"\"]*int(((len(ax.get_xticklabels())-6)/5))\n",
    "    ax.set_xticklabels([\"0\"] + sp + [\"0.2\"] + sp + [\"0.4\"] + sp + [\"0.6\"] + sp + [\"0.8\"] + sp + [\"1\"])\n",
    "    \n",
    "    ax.set_xlabel(\"\")\n",
    "    if(i==0):\n",
    "        ax.set_ylabel(\"avg\")\n",
    "    else:\n",
    "        ax.set_ylabel(\"\")\n",
    "\n",
    "measure=\"stdContrast\"\n",
    "for i,testId in enumerate(testlist1):\n",
    "    subdata = selectedData[(selectedData[\"testId\"] == testId)  & (selectedData[\"nDim\"] == nDim)]\n",
    "    d = subdata.groupby([\"noise\",\"category\"]).mean()[measure].reset_index()\n",
    "    dd = d.set_index([\"noise\", \"category\"]).unstack(\"noise\")\n",
    "    dd.columns = dd.columns.droplevel(0)\n",
    "    dd = dd.reindex(['C', \"Dl\", \"H\", \"Hc\", \"HcG\", 'Hs', 'L', 'P', 'S1', \"S5\", \"St\", \"Zi\", 'I'])\n",
    "    \n",
    "    ax = axess[i+4]\n",
    "    \n",
    "    dd = np.absolute(dd)\n",
    "\n",
    "    if(testId == \"CMI\"): \n",
    "        sns.heatmap(dd,  cmap=sns.color_palette(\"RdBu\", 100), cbar_kws={'format': '$%.3f$'},\n",
    "                xticklabels=3, ax=ax)\n",
    "    elif(testId == \"MWP\"):\n",
    "        sns.heatmap(dd,  cmap=sns.color_palette(\"RdBu\", 100), cbar_kws={'format': '$%.2f$'},\n",
    "                xticklabels=3, ax=ax)\n",
    "    elif(testId == \"UDS\"):\n",
    "        sns.heatmap(dd,  cmap=sns.color_palette(\"RdBu\", 100), cbar_kws={'format': '$%.2f$'},\n",
    "                xticklabels=3, ax=ax)\n",
    "    else:\n",
    "        sns.heatmap(dd,  cmap=sns.color_palette(\"RdBu\", 100),\n",
    "                xticklabels=3, ax=ax)\n",
    "    \n",
    "    ax.set_yticklabels([r'\\textbf{%s}'%x.get_text() for x in ax.get_yticklabels()], rotation=0)\n",
    "    \n",
    "    ax.set_title(\"\")\n",
    "    ax.set_ylabel(\"\")\n",
    "    \n",
    "    labels = [format(float(x.get_text()), '.1f') for x in ax.get_xticklabels()]\n",
    "    labels[0] = \"0\"\n",
    "    labels[-1] = \"1\"\n",
    "    for x in range(1, len(labels), 2):\n",
    "        labels[x] = \"\"\n",
    "    ax.set_xticklabels(labels)\n",
    "    ax.set_xlabel(r'$\\sigma$')\n",
    "    \n",
    "    if(i==0):\n",
    "        ax.set_ylabel(\"std\")\n",
    "    else:\n",
    "        ax.set_ylabel(\"\")\n",
    "\n",
    "plt.tight_layout()\n",
    "\n",
    "fig.savefig(\"plots/Fig6_large_2.pdf\")"
   ]
  },
  {
   "cell_type": "code",
   "execution_count": null,
   "metadata": {
    "collapsed": true
   },
   "outputs": [],
   "source": []
  }
 ],
 "metadata": {
  "kernelspec": {
   "display_name": "Python 3",
   "language": "python",
   "name": "python3"
  },
  "language_info": {
   "codemirror_mode": {
    "name": "ipython",
    "version": 3
   },
   "file_extension": ".py",
   "mimetype": "text/x-python",
   "name": "python",
   "nbconvert_exporter": "python",
   "pygments_lexer": "ipython3",
   "version": "3.6.6"
  },
  "varInspector": {
   "cols": {
    "lenName": 16,
    "lenType": 16,
    "lenVar": 40
   },
   "kernels_config": {
    "python": {
     "delete_cmd_postfix": "",
     "delete_cmd_prefix": "del ",
     "library": "var_list.py",
     "varRefreshCmd": "print(var_dic_list())"
    },
    "r": {
     "delete_cmd_postfix": ") ",
     "delete_cmd_prefix": "rm(",
     "library": "var_list.r",
     "varRefreshCmd": "cat(var_dic_list()) "
    }
   },
   "types_to_exclude": [
    "module",
    "function",
    "builtin_function_or_method",
    "instance",
    "_Feature"
   ],
   "window_display": false
  }
 },
 "nbformat": 4,
 "nbformat_minor": 2
}
