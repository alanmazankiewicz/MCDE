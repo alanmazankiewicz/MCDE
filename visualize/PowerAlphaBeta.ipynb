{
 "cells": [
  {
   "cell_type": "markdown",
   "metadata": {},
   "source": [
    "# Plot PowerAlphaBeta Test"
   ]
  },
  {
   "cell_type": "code",
   "execution_count": 113,
   "metadata": {
    "ExecuteTime": {
     "end_time": "2018-11-15T13:42:40.603504Z",
     "start_time": "2018-11-15T13:42:40.595039Z"
    },
    "collapsed": true
   },
   "outputs": [],
   "source": [
    "import pandas as pd\n",
    "import numpy as np\n",
    "\n",
    "import seaborn as sns\n",
    "import matplotlib\n",
    "import matplotlib.pyplot as plt\n",
    "\n",
    "plt.style.use('seaborn-notebook')\n",
    "\n",
    "%matplotlib inline"
   ]
  },
  {
   "cell_type": "code",
   "execution_count": 7,
   "metadata": {
    "ExecuteTime": {
     "end_time": "2018-11-15T12:19:38.812937Z",
     "start_time": "2018-11-15T12:19:38.808631Z"
    },
    "collapsed": true
   },
   "outputs": [],
   "source": [
    "from IPython.display import display\n",
    "pd.options.display.max_columns = None"
   ]
  },
  {
   "cell_type": "code",
   "execution_count": 2,
   "metadata": {
    "ExecuteTime": {
     "end_time": "2018-11-15T12:17:39.484447Z",
     "start_time": "2018-11-15T12:17:39.480696Z"
    },
    "collapsed": true
   },
   "outputs": [],
   "source": [
    "# Replace this variable accordingly \n",
    "path_to_results = \"../experiments/2018-11-06-13-48_PowerAlpha_/\""
   ]
  },
  {
   "cell_type": "code",
   "execution_count": 3,
   "metadata": {
    "ExecuteTime": {
     "end_time": "2018-11-15T12:17:42.000481Z",
     "start_time": "2018-11-15T12:17:41.056969Z"
    },
    "collapsed": true
   },
   "outputs": [],
   "source": [
    "data = pd.read_csv(path_to_results + \"PowerAlpha.csv\", header=0)\n",
    "data[\"category\"] = [x.split(\"-\")[0] for x in data[\"refId\"]]"
   ]
  },
  {
   "cell_type": "code",
   "execution_count": 8,
   "metadata": {
    "ExecuteTime": {
     "end_time": "2018-11-15T12:19:44.149915Z",
     "start_time": "2018-11-15T12:19:44.122176Z"
    },
    "scrolled": true
   },
   "outputs": [
    {
     "data": {
      "text/html": [
       "<div>\n",
       "<style scoped>\n",
       "    .dataframe tbody tr th:only-of-type {\n",
       "        vertical-align: middle;\n",
       "    }\n",
       "\n",
       "    .dataframe tbody tr th {\n",
       "        vertical-align: top;\n",
       "    }\n",
       "\n",
       "    .dataframe thead th {\n",
       "        text-align: right;\n",
       "    }\n",
       "</style>\n",
       "<table border=\"1\" class=\"dataframe\">\n",
       "  <thead>\n",
       "    <tr style=\"text-align: right;\">\n",
       "      <th></th>\n",
       "      <th>refId</th>\n",
       "      <th>nDim</th>\n",
       "      <th>noise</th>\n",
       "      <th>n</th>\n",
       "      <th>nRep</th>\n",
       "      <th>testId</th>\n",
       "      <th>alpha</th>\n",
       "      <th>beta</th>\n",
       "      <th>M</th>\n",
       "      <th>powerAt90</th>\n",
       "      <th>powerAt95</th>\n",
       "      <th>powerAt99</th>\n",
       "      <th>thresholdAt90</th>\n",
       "      <th>thresholdAt95</th>\n",
       "      <th>thresholdAt99</th>\n",
       "      <th>avgContrast</th>\n",
       "      <th>stdContrast</th>\n",
       "      <th>avgWalltime</th>\n",
       "      <th>stdWalltime</th>\n",
       "      <th>avgCPUtime</th>\n",
       "      <th>stdCPUtime</th>\n",
       "      <th>avgPrepWalltime</th>\n",
       "      <th>stdPrepWalltime</th>\n",
       "      <th>avgPrepCPUtime</th>\n",
       "      <th>stdPrepCPUtime</th>\n",
       "      <th>category</th>\n",
       "    </tr>\n",
       "  </thead>\n",
       "  <tbody>\n",
       "    <tr>\n",
       "      <th>0</th>\n",
       "      <td>0-Hypothesis</td>\n",
       "      <td>2</td>\n",
       "      <td>0.0</td>\n",
       "      <td>1000</td>\n",
       "      <td>500</td>\n",
       "      <td>KS</td>\n",
       "      <td>0.1</td>\n",
       "      <td>0.5</td>\n",
       "      <td>100</td>\n",
       "      <td>0.1</td>\n",
       "      <td>0.05</td>\n",
       "      <td>0.01</td>\n",
       "      <td>0.087979</td>\n",
       "      <td>0.090544</td>\n",
       "      <td>0.096153</td>\n",
       "      <td>0.080029</td>\n",
       "      <td>0.006057</td>\n",
       "      <td>2.112432</td>\n",
       "      <td>2.146148</td>\n",
       "      <td>2.104397</td>\n",
       "      <td>2.078493</td>\n",
       "      <td>10.749522</td>\n",
       "      <td>23.472438</td>\n",
       "      <td>3.629167</td>\n",
       "      <td>5.908253</td>\n",
       "      <td>0</td>\n",
       "    </tr>\n",
       "    <tr>\n",
       "      <th>1</th>\n",
       "      <td>0-Hypothesis</td>\n",
       "      <td>2</td>\n",
       "      <td>0.0</td>\n",
       "      <td>1000</td>\n",
       "      <td>500</td>\n",
       "      <td>MWP</td>\n",
       "      <td>0.1</td>\n",
       "      <td>0.5</td>\n",
       "      <td>100</td>\n",
       "      <td>0.1</td>\n",
       "      <td>0.05</td>\n",
       "      <td>0.01</td>\n",
       "      <td>0.552617</td>\n",
       "      <td>0.564383</td>\n",
       "      <td>0.586231</td>\n",
       "      <td>0.498669</td>\n",
       "      <td>0.039815</td>\n",
       "      <td>0.875779</td>\n",
       "      <td>1.276658</td>\n",
       "      <td>0.857595</td>\n",
       "      <td>0.931836</td>\n",
       "      <td>12.568388</td>\n",
       "      <td>24.528973</td>\n",
       "      <td>4.938280</td>\n",
       "      <td>8.921256</td>\n",
       "      <td>0</td>\n",
       "    </tr>\n",
       "    <tr>\n",
       "      <th>2</th>\n",
       "      <td>0-Hypothesis</td>\n",
       "      <td>2</td>\n",
       "      <td>0.0</td>\n",
       "      <td>1000</td>\n",
       "      <td>500</td>\n",
       "      <td>MWPr</td>\n",
       "      <td>0.1</td>\n",
       "      <td>0.5</td>\n",
       "      <td>100</td>\n",
       "      <td>0.1</td>\n",
       "      <td>0.05</td>\n",
       "      <td>0.01</td>\n",
       "      <td>0.552754</td>\n",
       "      <td>0.569545</td>\n",
       "      <td>0.600836</td>\n",
       "      <td>0.504587</td>\n",
       "      <td>0.037794</td>\n",
       "      <td>0.439380</td>\n",
       "      <td>1.750026</td>\n",
       "      <td>0.361134</td>\n",
       "      <td>0.167209</td>\n",
       "      <td>1.542559</td>\n",
       "      <td>1.780986</td>\n",
       "      <td>1.261570</td>\n",
       "      <td>0.365286</td>\n",
       "      <td>0</td>\n",
       "    </tr>\n",
       "    <tr>\n",
       "      <th>3</th>\n",
       "      <td>LinearThenDummy-2-0.0</td>\n",
       "      <td>2</td>\n",
       "      <td>0.0</td>\n",
       "      <td>1000</td>\n",
       "      <td>500</td>\n",
       "      <td>KS</td>\n",
       "      <td>0.1</td>\n",
       "      <td>0.5</td>\n",
       "      <td>100</td>\n",
       "      <td>1.0</td>\n",
       "      <td>1.00</td>\n",
       "      <td>1.00</td>\n",
       "      <td>0.087979</td>\n",
       "      <td>0.090544</td>\n",
       "      <td>0.096153</td>\n",
       "      <td>0.681121</td>\n",
       "      <td>0.012639</td>\n",
       "      <td>1.495921</td>\n",
       "      <td>2.971626</td>\n",
       "      <td>1.287753</td>\n",
       "      <td>0.657756</td>\n",
       "      <td>1.967293</td>\n",
       "      <td>5.206681</td>\n",
       "      <td>1.625122</td>\n",
       "      <td>1.347011</td>\n",
       "      <td>LinearThenDummy</td>\n",
       "    </tr>\n",
       "    <tr>\n",
       "      <th>4</th>\n",
       "      <td>LinearPeriodic_2-2-0.0</td>\n",
       "      <td>2</td>\n",
       "      <td>0.0</td>\n",
       "      <td>1000</td>\n",
       "      <td>500</td>\n",
       "      <td>KS</td>\n",
       "      <td>0.1</td>\n",
       "      <td>0.5</td>\n",
       "      <td>100</td>\n",
       "      <td>1.0</td>\n",
       "      <td>1.00</td>\n",
       "      <td>1.00</td>\n",
       "      <td>0.087979</td>\n",
       "      <td>0.090544</td>\n",
       "      <td>0.096153</td>\n",
       "      <td>0.492458</td>\n",
       "      <td>0.017679</td>\n",
       "      <td>1.441429</td>\n",
       "      <td>2.581924</td>\n",
       "      <td>1.317290</td>\n",
       "      <td>0.534657</td>\n",
       "      <td>2.253911</td>\n",
       "      <td>6.056361</td>\n",
       "      <td>1.572835</td>\n",
       "      <td>1.280366</td>\n",
       "      <td>LinearPeriodic_2</td>\n",
       "    </tr>\n",
       "  </tbody>\n",
       "</table>\n",
       "</div>"
      ],
      "text/plain": [
       "                    refId  nDim  noise     n  nRep testId  alpha  beta    M  \\\n",
       "0            0-Hypothesis     2    0.0  1000   500     KS    0.1   0.5  100   \n",
       "1            0-Hypothesis     2    0.0  1000   500    MWP    0.1   0.5  100   \n",
       "2            0-Hypothesis     2    0.0  1000   500   MWPr    0.1   0.5  100   \n",
       "3   LinearThenDummy-2-0.0     2    0.0  1000   500     KS    0.1   0.5  100   \n",
       "4  LinearPeriodic_2-2-0.0     2    0.0  1000   500     KS    0.1   0.5  100   \n",
       "\n",
       "   powerAt90  powerAt95  powerAt99  thresholdAt90  thresholdAt95  \\\n",
       "0        0.1       0.05       0.01       0.087979       0.090544   \n",
       "1        0.1       0.05       0.01       0.552617       0.564383   \n",
       "2        0.1       0.05       0.01       0.552754       0.569545   \n",
       "3        1.0       1.00       1.00       0.087979       0.090544   \n",
       "4        1.0       1.00       1.00       0.087979       0.090544   \n",
       "\n",
       "   thresholdAt99  avgContrast  stdContrast  avgWalltime  stdWalltime  \\\n",
       "0       0.096153     0.080029     0.006057     2.112432     2.146148   \n",
       "1       0.586231     0.498669     0.039815     0.875779     1.276658   \n",
       "2       0.600836     0.504587     0.037794     0.439380     1.750026   \n",
       "3       0.096153     0.681121     0.012639     1.495921     2.971626   \n",
       "4       0.096153     0.492458     0.017679     1.441429     2.581924   \n",
       "\n",
       "   avgCPUtime  stdCPUtime  avgPrepWalltime  stdPrepWalltime  avgPrepCPUtime  \\\n",
       "0    2.104397    2.078493        10.749522        23.472438        3.629167   \n",
       "1    0.857595    0.931836        12.568388        24.528973        4.938280   \n",
       "2    0.361134    0.167209         1.542559         1.780986        1.261570   \n",
       "3    1.287753    0.657756         1.967293         5.206681        1.625122   \n",
       "4    1.317290    0.534657         2.253911         6.056361        1.572835   \n",
       "\n",
       "   stdPrepCPUtime          category  \n",
       "0        5.908253                 0  \n",
       "1        8.921256                 0  \n",
       "2        0.365286                 0  \n",
       "3        1.347011   LinearThenDummy  \n",
       "4        1.280366  LinearPeriodic_2  "
      ]
     },
     "execution_count": 8,
     "metadata": {},
     "output_type": "execute_result"
    }
   ],
   "source": [
    "data.head()"
   ]
  },
  {
   "cell_type": "code",
   "execution_count": 6,
   "metadata": {
    "ExecuteTime": {
     "end_time": "2018-11-15T12:19:10.351632Z",
     "start_time": "2018-11-15T12:19:10.332977Z"
    }
   },
   "outputs": [
    {
     "data": {
      "text/plain": [
       "0"
      ]
     },
     "execution_count": 6,
     "metadata": {},
     "output_type": "execute_result"
    }
   ],
   "source": [
    "(data[\"refId\"] == \"refId\").sum() # must be 0 "
   ]
  },
  {
   "cell_type": "code",
   "execution_count": 11,
   "metadata": {
    "ExecuteTime": {
     "end_time": "2018-11-15T12:19:54.756268Z",
     "start_time": "2018-11-15T12:19:54.748898Z"
    }
   },
   "outputs": [
    {
     "data": {
      "text/plain": [
       "array([2, 3, 5])"
      ]
     },
     "execution_count": 11,
     "metadata": {},
     "output_type": "execute_result"
    }
   ],
   "source": [
    "data[\"nDim\"].unique()"
   ]
  },
  {
   "cell_type": "code",
   "execution_count": 12,
   "metadata": {
    "ExecuteTime": {
     "end_time": "2018-11-15T12:19:55.566823Z",
     "start_time": "2018-11-15T12:19:55.556811Z"
    }
   },
   "outputs": [
    {
     "data": {
      "text/plain": [
       "array([0.        , 0.03333333, 0.06666667, 0.1       , 0.13333333,\n",
       "       0.16666667, 0.2       , 0.23333333, 0.26666667, 0.3       ,\n",
       "       0.33333333, 0.36666667, 0.4       , 0.43333333, 0.46666667,\n",
       "       0.5       , 0.53333333, 0.56666667, 0.6       , 0.63333333,\n",
       "       0.66666667, 0.7       , 0.73333333, 0.76666667, 0.8       ,\n",
       "       0.83333333, 0.86666667, 0.9       , 0.93333333, 0.96666667,\n",
       "       1.        ])"
      ]
     },
     "execution_count": 12,
     "metadata": {},
     "output_type": "execute_result"
    }
   ],
   "source": [
    "data[\"noise\"].unique()"
   ]
  },
  {
   "cell_type": "code",
   "execution_count": 13,
   "metadata": {
    "ExecuteTime": {
     "end_time": "2018-11-15T12:19:57.405373Z",
     "start_time": "2018-11-15T12:19:57.383869Z"
    },
    "scrolled": true
   },
   "outputs": [
    {
     "data": {
      "text/plain": [
       "array(['0', 'LinearThenDummy', 'LinearPeriodic_2', 'Linear', 'Sine_5',\n",
       "       'LinearSteps_20', 'LinearPeriodic_5', 'LinearPeriodic_10',\n",
       "       'Sine_2', 'LinearStairs_5', 'Hourglass', 'DoubleLinear_0.25',\n",
       "       'DoubleLinear_0.5', 'Sine_20', 'Cross', 'HyperSphere',\n",
       "       'NonCoexistence', 'Cubic_3', 'Sqrt_2', 'Parabolic_2',\n",
       "       'RandomSteps_10', 'LinearPeriodic_20', 'LinearThenNoise', 'Sqrt_1',\n",
       "       'LinearSteps_2', 'Sine_10', 'LinearStairs_10', 'RandomSteps_2',\n",
       "       'Parabolic_3', 'Sqrt_3', 'Cubic_1', 'RandomSteps_5',\n",
       "       'DoubleLinear_0.75', 'Parabolic_1', 'Hypercube', 'Cubic_2',\n",
       "       'RandomSteps_20', 'LinearStairs_2', 'StraightLines',\n",
       "       'LinearSteps_5', 'LinearSteps_10', 'LinearStairs_20', 'Z', 'Zinv',\n",
       "       'HypercubeGraph', 'Star', 'Independent', 'Sine_1'], dtype=object)"
      ]
     },
     "execution_count": 13,
     "metadata": {},
     "output_type": "execute_result"
    }
   ],
   "source": [
    "data[\"category\"].unique()"
   ]
  },
  {
   "cell_type": "markdown",
   "metadata": {},
   "source": [
    "## Plot Contrast"
   ]
  },
  {
   "cell_type": "code",
   "execution_count": 88,
   "metadata": {
    "ExecuteTime": {
     "end_time": "2018-11-15T13:20:37.903901Z",
     "start_time": "2018-11-15T13:20:37.900032Z"
    },
    "collapsed": true
   },
   "outputs": [],
   "source": [
    "selectedCategories = ['Linear','Independent', 'Star'] # Must be 3 Cats"
   ]
  },
  {
   "cell_type": "code",
   "execution_count": 92,
   "metadata": {
    "ExecuteTime": {
     "end_time": "2018-11-15T13:22:29.390765Z",
     "start_time": "2018-11-15T13:22:29.383261Z"
    }
   },
   "outputs": [
    {
     "data": {
      "text/plain": [
       "array([2, 3, 5])"
      ]
     },
     "execution_count": 92,
     "metadata": {},
     "output_type": "execute_result"
    }
   ],
   "source": [
    "selectedDims = data[\"nDim\"].unique()\n",
    "selectedDims # Must be 3 Dims"
   ]
  },
  {
   "cell_type": "code",
   "execution_count": 72,
   "metadata": {
    "ExecuteTime": {
     "end_time": "2018-11-15T13:12:37.411102Z",
     "start_time": "2018-11-15T13:12:37.407176Z"
    },
    "collapsed": true
   },
   "outputs": [],
   "source": [
    "selectedTest = \"MWP\" # Must be 1 Test"
   ]
  },
  {
   "cell_type": "code",
   "execution_count": 94,
   "metadata": {
    "ExecuteTime": {
     "end_time": "2018-11-15T13:25:23.201535Z",
     "start_time": "2018-11-15T13:25:23.197147Z"
    },
    "collapsed": true
   },
   "outputs": [],
   "source": [
    "varPara = \"alpha\" # Must be either or \"alpha\" or \"beta\""
   ]
  },
  {
   "cell_type": "code",
   "execution_count": 115,
   "metadata": {
    "ExecuteTime": {
     "end_time": "2018-11-15T13:47:31.831720Z",
     "start_time": "2018-11-15T13:47:28.963809Z"
    }
   },
   "outputs": [
    {
     "data": {
      "image/png": "[encoded data removed]",
      "text/plain": [
       "<matplotlib.figure.Figure at 0x11e2de748>"
      ]
     },
     "metadata": {},
     "output_type": "display_data"
    }
   ],
   "source": [
    "# noise == 0\n",
    "fig = plt.figure(figsize = (14,12)) # Adjust Size \n",
    "fig.suptitle(\"Avg & Std Contrast vs \" + varPara, fontweight = \"bold\")\n",
    "\n",
    "# 1 Row\n",
    "subset = data[(data[\"category\"] == selectedCategories[0]) & (data[\"nDim\"] == selectedDims[0]) & (data[\"testId\"] == selectedTest) & (data[\"noise\"] == 0)]\n",
    "plt.subplot(331)\n",
    "plt.errorbar(x = subset[varPara], y = subset[\"avgContrast\"], yerr = subset[\"stdContrast\"])\n",
    "plt.ylabel(\"n = \" + str(selectedDims[0]), size = \"large\")\n",
    "plt.title(\"Data: \" + selectedCategories[0])\n",
    "plt.grid(True)\n",
    "plt.subplots_adjust(bottom = 0.001, left = 0.0001)\n",
    "\n",
    "subset = data[(data[\"category\"] == selectedCategories[1]) & (data[\"nDim\"] == selectedDims[0]) & (data[\"testId\"] == selectedTest) & (data[\"noise\"] == 0)]\n",
    "plt.subplot(332)\n",
    "plt.errorbar(x = subset[varPara], y = subset[\"avgContrast\"], yerr = subset[\"stdContrast\"])\n",
    "plt.title(\"Data: \" + selectedCategories[1])\n",
    "plt.grid(True)\n",
    "\n",
    "subset = data[(data[\"category\"] == selectedCategories[2]) & (data[\"nDim\"] == selectedDims[0]) & (data[\"testId\"] == selectedTest) & (data[\"noise\"] == 0)]\n",
    "plt.subplot(333)\n",
    "plt.errorbar(x = subset[varPara], y = subset[\"avgContrast\"], yerr = subset[\"stdContrast\"])\n",
    "plt.title(\"Data: \" + selectedCategories[2])\n",
    "plt.grid(True)\n",
    "\n",
    "# 2 Row \n",
    "subset = data[(data[\"category\"] == selectedCategories[0]) & (data[\"nDim\"] == selectedDims[1]) & (data[\"testId\"] == selectedTest) & (data[\"noise\"] == 0)]\n",
    "plt.subplot(334)\n",
    "plt.errorbar(x = subset[varPara], y = subset[\"avgContrast\"], yerr = subset[\"stdContrast\"])\n",
    "plt.ylabel(\"n = \" + str(selectedDims[1]), size = \"large\")\n",
    "plt.grid(True)\n",
    "plt.subplots_adjust(bottom = 0.001, left = 0.0001)\n",
    "\n",
    "subset = data[(data[\"category\"] == selectedCategories[1]) & (data[\"nDim\"] == selectedDims[1]) & (data[\"testId\"] == selectedTest) & (data[\"noise\"] == 0)]\n",
    "plt.subplot(335)\n",
    "plt.errorbar(x = subset[varPara], y = subset[\"avgContrast\"], yerr = subset[\"stdContrast\"])\n",
    "plt.grid(True)\n",
    "\n",
    "subset = data[(data[\"category\"] == selectedCategories[2]) & (data[\"nDim\"] == selectedDims[1]) & (data[\"testId\"] == selectedTest) & (data[\"noise\"] == 0)]\n",
    "plt.subplot(336)\n",
    "plt.errorbar(x = subset[varPara], y = subset[\"avgContrast\"], yerr = subset[\"stdContrast\"])\n",
    "plt.grid(True)\n",
    "\n",
    "# 3 Row\n",
    "\n",
    "subset = data[(data[\"category\"] == selectedCategories[0]) & (data[\"nDim\"] == selectedDims[2]) & (data[\"testId\"] == selectedTest) & (data[\"noise\"] == 0)]\n",
    "plt.subplot(337)\n",
    "plt.errorbar(x = subset[varPara], y = subset[\"avgContrast\"], yerr = subset[\"stdContrast\"])\n",
    "plt.ylabel(\"n = \" + str(selectedDims[2]), size = \"large\")\n",
    "plt.xlabel(str(varPara))\n",
    "plt.grid(True)\n",
    "plt.subplots_adjust(bottom = 0.001, left = 0.0001)\n",
    "\n",
    "subset = data[(data[\"category\"] == selectedCategories[1]) & (data[\"nDim\"] == selectedDims[2]) & (data[\"testId\"] == selectedTest) & (data[\"noise\"] == 0)]\n",
    "plt.subplot(338)\n",
    "plt.errorbar(x = subset[varPara], y = subset[\"avgContrast\"], yerr = subset[\"stdContrast\"])\n",
    "plt.xlabel(str(varPara))\n",
    "plt.grid(True)\n",
    "\n",
    "subset = data[(data[\"category\"] == selectedCategories[2]) & (data[\"nDim\"] == selectedDims[2]) & (data[\"testId\"] == selectedTest) & (data[\"noise\"] == 0)]\n",
    "plt.subplot(339)\n",
    "plt.errorbar(x = subset[varPara], y = subset[\"avgContrast\"], yerr = subset[\"stdContrast\"])\n",
    "plt.xlabel(str(varPara))\n",
    "plt.grid(True)\n",
    "\n",
    "# Saving \n",
    "savestring = (\"Contrast \" + varPara + \"_\" + selectedCategories[0] + \" \" + selectedCategories[1] + \" \" \n",
    "              + selectedCategories[2])\n",
    "savepath = \"plots/\"\n",
    "fig.savefig(savepath + savestring + \".pdf\", bbox_inches='tight')"
   ]
  }
 ],
 "metadata": {
  "kernelspec": {
   "display_name": "Python 3",
   "language": "python",
   "name": "python3"
  },
  "language_info": {
   "codemirror_mode": {
    "name": "ipython",
    "version": 3
   },
   "file_extension": ".py",
   "mimetype": "text/x-python",
   "name": "python",
   "nbconvert_exporter": "python",
   "pygments_lexer": "ipython3",
   "version": "3.6.6"
  },
  "varInspector": {
   "cols": {
    "lenName": 16,
    "lenType": 16,
    "lenVar": 40
   },
   "kernels_config": {
    "python": {
     "delete_cmd_postfix": "",
     "delete_cmd_prefix": "del ",
     "library": "var_list.py",
     "varRefreshCmd": "print(var_dic_list())"
    },
    "r": {
     "delete_cmd_postfix": ") ",
     "delete_cmd_prefix": "rm(",
     "library": "var_list.r",
     "varRefreshCmd": "cat(var_dic_list()) "
    }
   },
   "types_to_exclude": [
    "module",
    "function",
    "builtin_function_or_method",
    "instance",
    "_Feature"
   ],
   "window_display": false
  }
 },
 "nbformat": 4,
 "nbformat_minor": 2
}
