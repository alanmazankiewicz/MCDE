{
 "cells": [
  {
   "cell_type": "markdown",
   "metadata": {},
   "source": [
    "# Plot PowerAlphaBeta Test"
   ]
  },
  {
   "cell_type": "code",
   "execution_count": 41,
   "metadata": {
    "ExecuteTime": {
     "end_time": "2018-12-03T13:58:21.201917Z",
     "start_time": "2018-12-03T13:58:21.189478Z"
    },
    "collapsed": true
   },
   "outputs": [],
   "source": [
    "import pandas as pd\n",
    "import numpy as np\n",
    "\n",
    "import seaborn as sns\n",
    "import matplotlib\n",
    "import matplotlib.pyplot as plt\n",
    "from matplotlib.ticker import FormatStrFormatter\n",
    "\n",
    "plt.style.use('seaborn-notebook')\n",
    "\n",
    "%matplotlib inline"
   ]
  },
  {
   "cell_type": "code",
   "execution_count": 2,
   "metadata": {
    "ExecuteTime": {
     "end_time": "2018-12-03T13:20:40.874246Z",
     "start_time": "2018-12-03T13:20:40.869646Z"
    },
    "collapsed": true
   },
   "outputs": [],
   "source": [
    "from IPython.display import display\n",
    "pd.options.display.max_columns = None"
   ]
  },
  {
   "cell_type": "code",
   "execution_count": 3,
   "metadata": {
    "ExecuteTime": {
     "end_time": "2018-12-03T13:20:41.237301Z",
     "start_time": "2018-12-03T13:20:41.231350Z"
    },
    "collapsed": true
   },
   "outputs": [],
   "source": [
    "# Replace this variable accordingly \n",
    "path_to_results_alpha = \"../experiments/2018-11-06-13-48_PowerAlpha_/\"\n",
    "path_to_results_beta = \"../experiments/2018-11-10-11-23_PowerBeta_/\""
   ]
  },
  {
   "cell_type": "code",
   "execution_count": 8,
   "metadata": {
    "ExecuteTime": {
     "end_time": "2018-12-03T13:26:09.988226Z",
     "start_time": "2018-12-03T13:26:08.989595Z"
    }
   },
   "outputs": [],
   "source": [
    "data_alpha = pd.read_csv(path_to_results_alpha + \"PowerAlpha.csv\", header=0)\n",
    "data_alpha[\"category\"] = [x.split(\"-\")[0] for x in data_alpha[\"refId\"]]"
   ]
  },
  {
   "cell_type": "code",
   "execution_count": 9,
   "metadata": {
    "ExecuteTime": {
     "end_time": "2018-12-03T13:26:14.770541Z",
     "start_time": "2018-12-03T13:26:13.816473Z"
    },
    "collapsed": true
   },
   "outputs": [],
   "source": [
    "data_beta = pd.read_csv(path_to_results_beta + \"PowerBeta.csv\", header=0)\n",
    "data_beta[\"category\"] = [x.split(\"-\")[0] for x in data_beta[\"refId\"]]"
   ]
  },
  {
   "cell_type": "code",
   "execution_count": 10,
   "metadata": {
    "ExecuteTime": {
     "end_time": "2018-12-03T13:26:16.014975Z",
     "start_time": "2018-12-03T13:26:15.982154Z"
    }
   },
   "outputs": [
    {
     "name": "stdout",
     "output_type": "stream",
     "text": [
      "0\n",
      "0\n"
     ]
    }
   ],
   "source": [
    "print((data_alpha[\"refId\"] == \"refId\").sum()) # must be 0 \n",
    "print((data_beta[\"refId\"] == \"refId\").sum()) # must be 0 "
   ]
  },
  {
   "cell_type": "code",
   "execution_count": 11,
   "metadata": {
    "ExecuteTime": {
     "end_time": "2018-12-03T13:26:17.552971Z",
     "start_time": "2018-12-03T13:26:17.542673Z"
    }
   },
   "outputs": [
    {
     "data": {
      "text/plain": [
       "array([2, 3, 5])"
      ]
     },
     "execution_count": 11,
     "metadata": {},
     "output_type": "execute_result"
    }
   ],
   "source": [
    "data_alpha[\"nDim\"].unique()\n",
    "# data_beta[\"nDim\"].unique()"
   ]
  },
  {
   "cell_type": "code",
   "execution_count": 12,
   "metadata": {
    "ExecuteTime": {
     "end_time": "2018-12-03T13:26:20.454131Z",
     "start_time": "2018-12-03T13:26:20.441668Z"
    }
   },
   "outputs": [
    {
     "data": {
      "text/plain": [
       "array([0.        , 0.03333333, 0.06666667, 0.1       , 0.13333333,\n",
       "       0.16666667, 0.2       , 0.23333333, 0.26666667, 0.3       ,\n",
       "       0.33333333, 0.36666667, 0.4       , 0.43333333, 0.46666667,\n",
       "       0.5       , 0.53333333, 0.56666667, 0.6       , 0.63333333,\n",
       "       0.66666667, 0.7       , 0.73333333, 0.76666667, 0.8       ,\n",
       "       0.83333333, 0.86666667, 0.9       , 0.93333333, 0.96666667,\n",
       "       1.        ])"
      ]
     },
     "execution_count": 12,
     "metadata": {},
     "output_type": "execute_result"
    }
   ],
   "source": [
    "data_alpha[\"noise\"].unique()\n",
    "# data_beta[\"noise\"].unique()"
   ]
  },
  {
   "cell_type": "code",
   "execution_count": 13,
   "metadata": {
    "ExecuteTime": {
     "end_time": "2018-12-03T13:26:22.377407Z",
     "start_time": "2018-12-03T13:26:22.359432Z"
    },
    "scrolled": true
   },
   "outputs": [
    {
     "data": {
      "text/plain": [
       "array(['0', 'LinearThenDummy', 'LinearPeriodic_2', 'Linear', 'Sine_5',\n",
       "       'LinearSteps_20', 'LinearPeriodic_5', 'LinearPeriodic_10',\n",
       "       'Sine_2', 'LinearStairs_5', 'Hourglass', 'DoubleLinear_0.25',\n",
       "       'DoubleLinear_0.5', 'Sine_20', 'Cross', 'HyperSphere',\n",
       "       'NonCoexistence', 'Cubic_3', 'Sqrt_2', 'Parabolic_2',\n",
       "       'RandomSteps_10', 'LinearPeriodic_20', 'LinearThenNoise', 'Sqrt_1',\n",
       "       'LinearSteps_2', 'Sine_10', 'LinearStairs_10', 'RandomSteps_2',\n",
       "       'Parabolic_3', 'Sqrt_3', 'Cubic_1', 'RandomSteps_5',\n",
       "       'DoubleLinear_0.75', 'Parabolic_1', 'Hypercube', 'Cubic_2',\n",
       "       'RandomSteps_20', 'LinearStairs_2', 'StraightLines',\n",
       "       'LinearSteps_5', 'LinearSteps_10', 'LinearStairs_20', 'Z', 'Zinv',\n",
       "       'HypercubeGraph', 'Star', 'Independent', 'Sine_1'], dtype=object)"
      ]
     },
     "execution_count": 13,
     "metadata": {},
     "output_type": "execute_result"
    }
   ],
   "source": [
    "data_alpha[\"category\"].unique()\n",
    "# data_beta[\"category\"].unique()"
   ]
  },
  {
   "cell_type": "markdown",
   "metadata": {},
   "source": [
    "## Plot Contrast \n",
    "### Settings"
   ]
  },
  {
   "cell_type": "code",
   "execution_count": 50,
   "metadata": {
    "ExecuteTime": {
     "end_time": "2018-12-03T14:48:53.016648Z",
     "start_time": "2018-12-03T14:48:53.011648Z"
    },
    "collapsed": true
   },
   "outputs": [],
   "source": [
    "selectedCategories = ['Linear','Hypercube', 'Independent'] # Must be 3 Cats"
   ]
  },
  {
   "cell_type": "code",
   "execution_count": 51,
   "metadata": {
    "ExecuteTime": {
     "end_time": "2018-12-03T14:48:53.748830Z",
     "start_time": "2018-12-03T14:48:53.745738Z"
    },
    "collapsed": true
   },
   "outputs": [],
   "source": [
    "selectedTest = \"MWP\" # Must be 1 Test"
   ]
  },
  {
   "cell_type": "code",
   "execution_count": 52,
   "metadata": {
    "ExecuteTime": {
     "end_time": "2018-12-03T14:48:54.098365Z",
     "start_time": "2018-12-03T14:48:54.094192Z"
    },
    "collapsed": true
   },
   "outputs": [],
   "source": [
    "selectedNoise = 0.0 # Must be one Noiselevel"
   ]
  },
  {
   "cell_type": "code",
   "execution_count": 59,
   "metadata": {
    "ExecuteTime": {
     "end_time": "2018-12-03T14:52:18.416860Z",
     "start_time": "2018-12-03T14:52:18.413766Z"
    },
    "collapsed": true
   },
   "outputs": [],
   "source": [
    "scale_axes = \"row\" # weather subplots yaxis should be fixed along row/col, must be either [\"col\", \"row\", False]"
   ]
  },
  {
   "cell_type": "code",
   "execution_count": 54,
   "metadata": {
    "ExecuteTime": {
     "end_time": "2018-12-03T14:48:54.965246Z",
     "start_time": "2018-12-03T14:48:54.953745Z"
    },
    "collapsed": true
   },
   "outputs": [],
   "source": [
    "# Only one must not be commented out \n",
    "\n",
    "# what = [\"avgContrast\", \"stdContrast\"]\n",
    "what = [\"avgCPUtime\", \"stdCPUtime\"]\n",
    "\n",
    "if what[0] == \"avgContrast\":\n",
    "    string_title = \"Contrast\"\n",
    "elif what[0] == \"avgCPUtime\":\n",
    "    string_title = \"CPU Time\"\n",
    "else:\n",
    "    raise ValueError(\"You can only plot Contrast or CPU Time\") "
   ]
  },
  {
   "cell_type": "code",
   "execution_count": 55,
   "metadata": {
    "ExecuteTime": {
     "end_time": "2018-12-03T14:48:55.750450Z",
     "start_time": "2018-12-03T14:48:55.736727Z"
    }
   },
   "outputs": [
    {
     "data": {
      "text/plain": [
       "array([2, 3, 5])"
      ]
     },
     "execution_count": 55,
     "metadata": {},
     "output_type": "execute_result"
    }
   ],
   "source": [
    "varPara = \"alpha\" # Must be either or \"alpha\" or \"beta\"\n",
    "\n",
    "if varPara == \"alpha\":\n",
    "    data = data_alpha\n",
    "elif varPara == \"beta\": \n",
    "    data = data_beta\n",
    "else: \n",
    "    raise ValueError(\"varPara must be either or \\\"alpha\\\" or \\\"beta\\\"\") \n",
    "    \n",
    "selectedDims = data[\"nDim\"].unique()\n",
    "selectedDims # Must be 3 Dims"
   ]
  },
  {
   "cell_type": "markdown",
   "metadata": {},
   "source": [
    "### Plot"
   ]
  },
  {
   "cell_type": "code",
   "execution_count": 60,
   "metadata": {
    "ExecuteTime": {
     "end_time": "2018-12-03T14:52:24.726243Z",
     "start_time": "2018-12-03T14:52:22.125708Z"
    }
   },
   "outputs": [
    {
     "data": {
      "image/png": "[encoded data removed]",
      "text/plain": [
       "<matplotlib.figure.Figure at 0x1218e6048>"
      ]
     },
     "metadata": {},
     "output_type": "display_data"
    }
   ],
   "source": [
    "fig, axes = plt.subplots(3,3, figsize = (16,14), sharey = scale_axes) # Adjust Size \n",
    "fig.suptitle(\"Avg & Std \" + string_title + \" vs \" + varPara, fontweight = \"bold\", fontsize = 16)\n",
    "\n",
    "# 1 Row\n",
    "subset = data[(data[\"category\"] == selectedCategories[0]) & (data[\"nDim\"] == selectedDims[0]) & (data[\"testId\"] == selectedTest) & (data[\"noise\"] == selectedNoise)]\n",
    "axes[0, 0].errorbar(x = subset[varPara], y = subset[what[0]], yerr = subset[what[1]])\n",
    "axes[0, 0].set_ylabel(\"n = \" + str(selectedDims[0]), size = \"large\")\n",
    "axes[0, 0].set_title(\"Data: \" + selectedCategories[0])\n",
    "axes[0, 0].grid(True)\n",
    "axes[0, 0].yaxis.set_major_formatter(FormatStrFormatter('%.2f'))\n",
    "\n",
    "subset = data[(data[\"category\"] == selectedCategories[1]) & (data[\"nDim\"] == selectedDims[0]) & (data[\"testId\"] == selectedTest) & (data[\"noise\"] == selectedNoise)]\n",
    "axes[0, 1].errorbar(x = subset[varPara], y = subset[what[0]], yerr = subset[what[1]])\n",
    "axes[0, 1].set_title(\"Data: \" + selectedCategories[1])\n",
    "axes[0, 1].grid(True)\n",
    "axes[0, 1].yaxis.set_major_formatter(FormatStrFormatter('%.2f'))\n",
    "\n",
    "subset = data[(data[\"category\"] == selectedCategories[2]) & (data[\"nDim\"] == selectedDims[0]) & (data[\"testId\"] == selectedTest) & (data[\"noise\"] == selectedNoise)]\n",
    "axes[0, 2].errorbar(x = subset[varPara], y = subset[what[0]], yerr = subset[what[1]])\n",
    "axes[0, 2].set_title(\"Data: \" + selectedCategories[2])\n",
    "axes[0, 2].grid(True)\n",
    "axes[0, 2].yaxis.set_major_formatter(FormatStrFormatter('%.2f'))\n",
    "\n",
    "# 2 Row \n",
    "subset = data[(data[\"category\"] == selectedCategories[0]) & (data[\"nDim\"] == selectedDims[1]) & (data[\"testId\"] == selectedTest) & (data[\"noise\"] == selectedNoise)]\n",
    "axes[1, 0].errorbar(x = subset[varPara], y = subset[what[0]], yerr = subset[what[1]])\n",
    "axes[1, 0].set_ylabel(\"n = \" + str(selectedDims[1]), size = \"large\")\n",
    "axes[1, 0].grid(True)\n",
    "axes[1, 0].yaxis.set_major_formatter(FormatStrFormatter('%.2f'))\n",
    "\n",
    "subset = data[(data[\"category\"] == selectedCategories[1]) & (data[\"nDim\"] == selectedDims[1]) & (data[\"testId\"] == selectedTest) & (data[\"noise\"] == selectedNoise)]\n",
    "axes[1, 1].errorbar(x = subset[varPara], y = subset[what[0]], yerr = subset[what[1]])\n",
    "axes[1, 1].grid(True)\n",
    "axes[1, 1].yaxis.set_major_formatter(FormatStrFormatter('%.2f'))\n",
    "\n",
    "subset = data[(data[\"category\"] == selectedCategories[2]) & (data[\"nDim\"] == selectedDims[1]) & (data[\"testId\"] == selectedTest) & (data[\"noise\"] == selectedNoise)]\n",
    "axes[1, 2].errorbar(x = subset[varPara], y = subset[what[0]], yerr = subset[what[1]])\n",
    "axes[1, 2].grid(True)\n",
    "axes[1, 2].yaxis.set_major_formatter(FormatStrFormatter('%.2f'))\n",
    "\n",
    "# 3 Row\n",
    "subset = data[(data[\"category\"] == selectedCategories[0]) & (data[\"nDim\"] == selectedDims[2]) & (data[\"testId\"] == selectedTest) & (data[\"noise\"] == selectedNoise)]\n",
    "axes[2, 0].errorbar(x = subset[varPara], y = subset[what[0]], yerr = subset[what[1]])\n",
    "axes[2, 0].set_ylabel(\"n = \" + str(selectedDims[2]), size = \"large\")\n",
    "axes[2, 0].set_xlabel(str(varPara))\n",
    "axes[2, 0].grid(True)\n",
    "axes[2, 0].yaxis.set_major_formatter(FormatStrFormatter('%.2f'))\n",
    "\n",
    "subset = data[(data[\"category\"] == selectedCategories[1]) & (data[\"nDim\"] == selectedDims[2]) & (data[\"testId\"] == selectedTest) & (data[\"noise\"] == selectedNoise)]\n",
    "axes[2, 1].errorbar(x = subset[varPara], y = subset[what[0]], yerr = subset[what[1]])\n",
    "axes[2, 1].set_xlabel(str(varPara))\n",
    "axes[2, 1].grid(True)\n",
    "axes[1, 1].yaxis.set_major_formatter(FormatStrFormatter('%.2f'))\n",
    "\n",
    "subset = data[(data[\"category\"] == selectedCategories[2]) & (data[\"nDim\"] == selectedDims[2]) & (data[\"testId\"] == selectedTest) & (data[\"noise\"] == selectedNoise)]\n",
    "axes[2, 2].errorbar(x = subset[varPara], y = subset[what[0]], yerr = subset[what[1]])\n",
    "axes[2, 2].set_xlabel(str(varPara))\n",
    "axes[2, 2].grid(True)\n",
    "axes[2, 2].yaxis.set_major_formatter(FormatStrFormatter('%.2f'))\n",
    "\n",
    "# Saving \n",
    "savestring = (\"Contrast \" + varPara + \"_Test \" + selectedTest + \"_\" + selectedCategories[0] + \" \" + selectedCategories[1] + \" \" \n",
    "              + selectedCategories[2] + \"_Noise \" + str(selectedNoise))\n",
    "savepath = \"plots/AlphaBeta/\"\n",
    "fig.savefig(savepath + savestring + \".pdf\", bbox_inches='tight')"
   ]
  },
  {
   "cell_type": "markdown",
   "metadata": {
    "collapsed": true
   },
   "source": [
    "## Plot Power95 for diffrent Alpha / Beta & Noise\n",
    "### Settings"
   ]
  },
  {
   "cell_type": "code",
   "execution_count": 93,
   "metadata": {
    "ExecuteTime": {
     "end_time": "2018-11-21T10:00:55.176022Z",
     "start_time": "2018-11-21T10:00:55.162164Z"
    },
    "collapsed": true
   },
   "outputs": [],
   "source": [
    "selectedCategorie_ = 'Hypercube' # Must be 1 Cat\n",
    "\n",
    "selectedTest_ = \"KS\" # Must be 1 Test\n",
    "\n",
    "selectedDim_ = [2,3,5] # Must be 3 Dims "
   ]
  },
  {
   "cell_type": "code",
   "execution_count": 85,
   "metadata": {
    "ExecuteTime": {
     "end_time": "2018-11-21T09:58:54.475110Z",
     "start_time": "2018-11-21T09:58:51.378337Z"
    },
    "scrolled": true
   },
   "outputs": [
    {
     "data": {
      "image/png": "[encoded data removed]",
      "text/plain": [
       "<matplotlib.figure.Figure at 0x11e606080>"
      ]
     },
     "metadata": {},
     "output_type": "display_data"
    }
   ],
   "source": [
    "fig, axes = plt.subplots(nrows = 2, ncols = 3, figsize = (11,8), sharey=True, sharex=True)\n",
    "fig.suptitle(\"PowerAt95 \" + \"Test: \" + selectedTest_ + \" Data: \" + selectedCategorie_ , fontweight = \"bold\", fontsize = 16)\n",
    "\n",
    "cbar_ax = fig.add_axes([.92, 0.11, .02, 0.78])\n",
    "axes = axes.reshape(-1)\n",
    "\n",
    "\n",
    "subset = data_alpha[(data_alpha[\"category\"] == selectedCategorie_) & (data_alpha[\"nDim\"] == selectedDim_[0]) & (data_alpha[\"testId\"] == selectedTest_)]\n",
    "subdata = subset[[\"noise\", \"powerAt95\", \"alpha\"]]\n",
    "subdata = subdata.pivot(index = \"alpha\", columns = \"noise\", values = \"powerAt95\")\n",
    "sns.heatmap(subdata, cmap=sns.color_palette(\"RdBu\", 100), ax = axes[0], cbar = True, cbar_ax = cbar_ax, vmin = 0, vmax = 1)\n",
    "axes[0].set_xlabel(\"\")\n",
    "axes[0].set_title(\"n = \" + str(selectedDim_[0]))\n",
    "\n",
    "subset = data_alpha[(data_alpha[\"category\"] == selectedCategorie_) & (data_alpha[\"nDim\"] == selectedDim_[1]) & (data_alpha[\"testId\"] == selectedTest_)]\n",
    "subdata = subset[[\"noise\", \"powerAt95\", \"alpha\"]]\n",
    "subdata = subdata.pivot(index = \"alpha\", columns = \"noise\", values = \"powerAt95\")\n",
    "sns.heatmap(subdata, cmap=sns.color_palette(\"RdBu\", 100), ax = axes[1], cbar = False, vmin = 0, vmax = 1)\n",
    "axes[1].set_ylabel(\"\")\n",
    "axes[1].set_xlabel(\"\")\n",
    "axes[1].set_title(\"n = \" + str(selectedDim_[1]))\n",
    "\n",
    "subset = data_alpha[(data_alpha[\"category\"] == selectedCategorie_) & (data_alpha[\"nDim\"] == selectedDim_[0]) & (data_alpha[\"testId\"] == selectedTest_)]\n",
    "subdata = subset[[\"noise\", \"powerAt95\", \"alpha\"]]\n",
    "subdata = subdata.pivot(index = \"alpha\", columns = \"noise\", values = \"powerAt95\")\n",
    "sns.heatmap(subdata, cmap=sns.color_palette(\"RdBu\", 100), ax = axes[2], cbar = False, vmin = 0, vmax = 1)\n",
    "axes[2].set_ylabel(\"\")\n",
    "axes[2].set_xlabel(\"\")\n",
    "axes[2].set_title(\"n = \" + str(selectedDim_[2]))\n",
    "\n",
    "# 2 row\n",
    "subset = data_beta[(data_beta[\"category\"] == selectedCategorie_) & (data_beta[\"nDim\"] == selectedDim_[0]) & (data_beta[\"testId\"] == selectedTest_)]\n",
    "subdata = subset[[\"noise\", \"powerAt95\", \"beta\"]]\n",
    "subdata = subdata.pivot(index = \"beta\", columns = \"noise\", values = \"powerAt95\")\n",
    "sns.heatmap(subdata, cmap=sns.color_palette(\"RdBu\", 100), ax = axes[3], cbar = False, xticklabels= 15, vmin = 0, vmax = 1)\n",
    "\n",
    "subset = data_beta[(data_beta[\"category\"] == selectedCategorie_) & (data_beta[\"nDim\"] == selectedDim_[1]) & (data_beta[\"testId\"] == selectedTest_)]\n",
    "subdata = subset[[\"noise\", \"powerAt95\", \"beta\"]]\n",
    "subdata = subdata.pivot(index = \"beta\", columns = \"noise\", values = \"powerAt95\")\n",
    "sns.heatmap(subdata, cmap=sns.color_palette(\"RdBu\", 100), ax = axes[4], cbar = False, xticklabels= 15, vmin = 0, vmax = 1)\n",
    "axes[4].set_ylabel(\"\")\n",
    "\n",
    "subset = data_beta[(data_beta[\"category\"] == selectedCategorie_) & (data_beta[\"nDim\"] == selectedDim_[2]) & (data_beta[\"testId\"] == selectedTest_)]\n",
    "subdata = subset[[\"noise\", \"powerAt95\", \"beta\"]]\n",
    "subdata = subdata.pivot(index = \"beta\", columns = \"noise\", values = \"powerAt95\")\n",
    "sns.heatmap(subdata, cmap=sns.color_palette(\"RdBu\", 100), ax = axes[5], cbar = False, xticklabels= 15, yticklabels= 2, vmin = 0, vmax = 1)\n",
    "axes[5].set_ylabel(\"\")\n",
    "\n",
    "# Saving \n",
    "savestring = (\"PowerAt95_Test \" + selectedTest_ + \"_Data \" + selectedCategorie_)\n",
    "savepath = \"plots/AlphaBeta/\"\n",
    "fig.savefig(savepath + savestring + \".pdf\", bbox_inches='tight')"
   ]
  },
  {
   "cell_type": "markdown",
   "metadata": {},
   "source": [
    "## Plot CPU Time \n",
    "### Settings"
   ]
  },
  {
   "cell_type": "code",
   "execution_count": 49,
   "metadata": {
    "ExecuteTime": {
     "end_time": "2018-12-03T14:36:54.756012Z",
     "start_time": "2018-12-03T14:36:54.664886Z"
    }
   },
   "outputs": [
    {
     "data": {
      "text/html": [
       "<div>\n",
       "<style scoped>\n",
       "    .dataframe tbody tr th:only-of-type {\n",
       "        vertical-align: middle;\n",
       "    }\n",
       "\n",
       "    .dataframe tbody tr th {\n",
       "        vertical-align: top;\n",
       "    }\n",
       "\n",
       "    .dataframe thead th {\n",
       "        text-align: right;\n",
       "    }\n",
       "</style>\n",
       "<table border=\"1\" class=\"dataframe\">\n",
       "  <thead>\n",
       "    <tr style=\"text-align: right;\">\n",
       "      <th></th>\n",
       "      <th>refId</th>\n",
       "      <th>nDim</th>\n",
       "      <th>noise</th>\n",
       "      <th>n</th>\n",
       "      <th>nRep</th>\n",
       "      <th>testId</th>\n",
       "      <th>alpha</th>\n",
       "      <th>beta</th>\n",
       "      <th>M</th>\n",
       "      <th>powerAt90</th>\n",
       "      <th>powerAt95</th>\n",
       "      <th>powerAt99</th>\n",
       "      <th>thresholdAt90</th>\n",
       "      <th>thresholdAt95</th>\n",
       "      <th>thresholdAt99</th>\n",
       "      <th>avgContrast</th>\n",
       "      <th>stdContrast</th>\n",
       "      <th>avgWalltime</th>\n",
       "      <th>stdWalltime</th>\n",
       "      <th>avgCPUtime</th>\n",
       "      <th>stdCPUtime</th>\n",
       "      <th>avgPrepWalltime</th>\n",
       "      <th>stdPrepWalltime</th>\n",
       "      <th>avgPrepCPUtime</th>\n",
       "      <th>stdPrepCPUtime</th>\n",
       "      <th>category</th>\n",
       "    </tr>\n",
       "  </thead>\n",
       "  <tbody>\n",
       "    <tr>\n",
       "      <th>0</th>\n",
       "      <td>0-Hypothesis</td>\n",
       "      <td>2</td>\n",
       "      <td>0.0</td>\n",
       "      <td>1000</td>\n",
       "      <td>500</td>\n",
       "      <td>KS</td>\n",
       "      <td>0.1</td>\n",
       "      <td>0.5</td>\n",
       "      <td>100</td>\n",
       "      <td>0.1</td>\n",
       "      <td>0.05</td>\n",
       "      <td>0.01</td>\n",
       "      <td>0.087979</td>\n",
       "      <td>0.090544</td>\n",
       "      <td>0.096153</td>\n",
       "      <td>0.080029</td>\n",
       "      <td>0.006057</td>\n",
       "      <td>2.112432</td>\n",
       "      <td>2.146148</td>\n",
       "      <td>2.104397</td>\n",
       "      <td>2.078493</td>\n",
       "      <td>10.749522</td>\n",
       "      <td>23.472438</td>\n",
       "      <td>3.629167</td>\n",
       "      <td>5.908253</td>\n",
       "      <td>0</td>\n",
       "    </tr>\n",
       "    <tr>\n",
       "      <th>1</th>\n",
       "      <td>0-Hypothesis</td>\n",
       "      <td>2</td>\n",
       "      <td>0.0</td>\n",
       "      <td>1000</td>\n",
       "      <td>500</td>\n",
       "      <td>MWP</td>\n",
       "      <td>0.1</td>\n",
       "      <td>0.5</td>\n",
       "      <td>100</td>\n",
       "      <td>0.1</td>\n",
       "      <td>0.05</td>\n",
       "      <td>0.01</td>\n",
       "      <td>0.552617</td>\n",
       "      <td>0.564383</td>\n",
       "      <td>0.586231</td>\n",
       "      <td>0.498669</td>\n",
       "      <td>0.039815</td>\n",
       "      <td>0.875779</td>\n",
       "      <td>1.276658</td>\n",
       "      <td>0.857595</td>\n",
       "      <td>0.931836</td>\n",
       "      <td>12.568388</td>\n",
       "      <td>24.528973</td>\n",
       "      <td>4.938280</td>\n",
       "      <td>8.921256</td>\n",
       "      <td>0</td>\n",
       "    </tr>\n",
       "    <tr>\n",
       "      <th>2</th>\n",
       "      <td>0-Hypothesis</td>\n",
       "      <td>2</td>\n",
       "      <td>0.0</td>\n",
       "      <td>1000</td>\n",
       "      <td>500</td>\n",
       "      <td>MWPr</td>\n",
       "      <td>0.1</td>\n",
       "      <td>0.5</td>\n",
       "      <td>100</td>\n",
       "      <td>0.1</td>\n",
       "      <td>0.05</td>\n",
       "      <td>0.01</td>\n",
       "      <td>0.552754</td>\n",
       "      <td>0.569545</td>\n",
       "      <td>0.600836</td>\n",
       "      <td>0.504587</td>\n",
       "      <td>0.037794</td>\n",
       "      <td>0.439380</td>\n",
       "      <td>1.750026</td>\n",
       "      <td>0.361134</td>\n",
       "      <td>0.167209</td>\n",
       "      <td>1.542559</td>\n",
       "      <td>1.780986</td>\n",
       "      <td>1.261570</td>\n",
       "      <td>0.365286</td>\n",
       "      <td>0</td>\n",
       "    </tr>\n",
       "    <tr>\n",
       "      <th>3</th>\n",
       "      <td>LinearThenDummy-2-0.0</td>\n",
       "      <td>2</td>\n",
       "      <td>0.0</td>\n",
       "      <td>1000</td>\n",
       "      <td>500</td>\n",
       "      <td>KS</td>\n",
       "      <td>0.1</td>\n",
       "      <td>0.5</td>\n",
       "      <td>100</td>\n",
       "      <td>1.0</td>\n",
       "      <td>1.00</td>\n",
       "      <td>1.00</td>\n",
       "      <td>0.087979</td>\n",
       "      <td>0.090544</td>\n",
       "      <td>0.096153</td>\n",
       "      <td>0.681121</td>\n",
       "      <td>0.012639</td>\n",
       "      <td>1.495921</td>\n",
       "      <td>2.971626</td>\n",
       "      <td>1.287753</td>\n",
       "      <td>0.657756</td>\n",
       "      <td>1.967293</td>\n",
       "      <td>5.206681</td>\n",
       "      <td>1.625122</td>\n",
       "      <td>1.347011</td>\n",
       "      <td>LinearThenDummy</td>\n",
       "    </tr>\n",
       "    <tr>\n",
       "      <th>4</th>\n",
       "      <td>LinearPeriodic_2-2-0.0</td>\n",
       "      <td>2</td>\n",
       "      <td>0.0</td>\n",
       "      <td>1000</td>\n",
       "      <td>500</td>\n",
       "      <td>KS</td>\n",
       "      <td>0.1</td>\n",
       "      <td>0.5</td>\n",
       "      <td>100</td>\n",
       "      <td>1.0</td>\n",
       "      <td>1.00</td>\n",
       "      <td>1.00</td>\n",
       "      <td>0.087979</td>\n",
       "      <td>0.090544</td>\n",
       "      <td>0.096153</td>\n",
       "      <td>0.492458</td>\n",
       "      <td>0.017679</td>\n",
       "      <td>1.441429</td>\n",
       "      <td>2.581924</td>\n",
       "      <td>1.317290</td>\n",
       "      <td>0.534657</td>\n",
       "      <td>2.253911</td>\n",
       "      <td>6.056361</td>\n",
       "      <td>1.572835</td>\n",
       "      <td>1.280366</td>\n",
       "      <td>LinearPeriodic_2</td>\n",
       "    </tr>\n",
       "  </tbody>\n",
       "</table>\n",
       "</div>"
      ],
      "text/plain": [
       "                    refId  nDim  noise     n  nRep testId  alpha  beta    M  \\\n",
       "0            0-Hypothesis     2    0.0  1000   500     KS    0.1   0.5  100   \n",
       "1            0-Hypothesis     2    0.0  1000   500    MWP    0.1   0.5  100   \n",
       "2            0-Hypothesis     2    0.0  1000   500   MWPr    0.1   0.5  100   \n",
       "3   LinearThenDummy-2-0.0     2    0.0  1000   500     KS    0.1   0.5  100   \n",
       "4  LinearPeriodic_2-2-0.0     2    0.0  1000   500     KS    0.1   0.5  100   \n",
       "\n",
       "   powerAt90  powerAt95  powerAt99  thresholdAt90  thresholdAt95  \\\n",
       "0        0.1       0.05       0.01       0.087979       0.090544   \n",
       "1        0.1       0.05       0.01       0.552617       0.564383   \n",
       "2        0.1       0.05       0.01       0.552754       0.569545   \n",
       "3        1.0       1.00       1.00       0.087979       0.090544   \n",
       "4        1.0       1.00       1.00       0.087979       0.090544   \n",
       "\n",
       "   thresholdAt99  avgContrast  stdContrast  avgWalltime  stdWalltime  \\\n",
       "0       0.096153     0.080029     0.006057     2.112432     2.146148   \n",
       "1       0.586231     0.498669     0.039815     0.875779     1.276658   \n",
       "2       0.600836     0.504587     0.037794     0.439380     1.750026   \n",
       "3       0.096153     0.681121     0.012639     1.495921     2.971626   \n",
       "4       0.096153     0.492458     0.017679     1.441429     2.581924   \n",
       "\n",
       "   avgCPUtime  stdCPUtime  avgPrepWalltime  stdPrepWalltime  avgPrepCPUtime  \\\n",
       "0    2.104397    2.078493        10.749522        23.472438        3.629167   \n",
       "1    0.857595    0.931836        12.568388        24.528973        4.938280   \n",
       "2    0.361134    0.167209         1.542559         1.780986        1.261570   \n",
       "3    1.287753    0.657756         1.967293         5.206681        1.625122   \n",
       "4    1.317290    0.534657         2.253911         6.056361        1.572835   \n",
       "\n",
       "   stdPrepCPUtime          category  \n",
       "0        5.908253                 0  \n",
       "1        8.921256                 0  \n",
       "2        0.365286                 0  \n",
       "3        1.347011   LinearThenDummy  \n",
       "4        1.280366  LinearPeriodic_2  "
      ]
     },
     "execution_count": 49,
     "metadata": {},
     "output_type": "execute_result"
    }
   ],
   "source": [
    "data_alpha.head()"
   ]
  },
  {
   "cell_type": "code",
   "execution_count": null,
   "metadata": {
    "collapsed": true
   },
   "outputs": [],
   "source": [
    "selectedCategories = ['Linear','Hypercube', 'Independent'] # Must be 3 Cats"
   ]
  },
  {
   "cell_type": "code",
   "execution_count": null,
   "metadata": {
    "collapsed": true
   },
   "outputs": [],
   "source": [
    "selectedTest = \"MWP\" # Must be 1 Test"
   ]
  },
  {
   "cell_type": "code",
   "execution_count": null,
   "metadata": {
    "collapsed": true
   },
   "outputs": [],
   "source": [
    "selectedNoise = 0.0 # Must be one Noiselevel"
   ]
  },
  {
   "cell_type": "code",
   "execution_count": null,
   "metadata": {
    "collapsed": true
   },
   "outputs": [],
   "source": [
    "scale_axes = \"col\" # weather subplots yaxis should be fixed along row/col, must be either [\"col\", \"row\", False]"
   ]
  },
  {
   "cell_type": "code",
   "execution_count": null,
   "metadata": {
    "collapsed": true
   },
   "outputs": [],
   "source": [
    "varPara = \"alpha\" # Must be either or \"alpha\" or \"beta\"\n",
    "\n",
    "if varPara == \"alpha\":\n",
    "    data = data_alpha\n",
    "elif varPara == \"beta\": \n",
    "    data = data_beta\n",
    "else: \n",
    "    raise ValueError(\"varPara must be either or \\\"alpha\\\" or \\\"beta\\\"\") "
   ]
  },
  {
   "cell_type": "code",
   "execution_count": null,
   "metadata": {
    "collapsed": true
   },
   "outputs": [],
   "source": [
    "selectedDims = data[\"nDim\"].unique()\n",
    "selectedDims # Must be 3 Dims"
   ]
  },
  {
   "cell_type": "code",
   "execution_count": null,
   "metadata": {
    "collapsed": true
   },
   "outputs": [],
   "source": [
    "### Plot\n",
    "\n",
    "fig, axes = plt.subplots(3,3, figsize = (16,14), sharey = scale_axes) # Adjust Size \n",
    "fig.suptitle(\"Avg & Std CPU Time vs \" + varPara, fontweight = \"bold\", fontsize = 16)\n",
    "\n",
    "# 1 Row\n",
    "subset = data[(data[\"category\"] == selectedCategories[0]) & (data[\"nDim\"] == selectedDims[0]) & (data[\"testId\"] == selectedTest) & (data[\"noise\"] == selectedNoise)]\n",
    "axes[0, 0].errorbar(x = subset[varPara], y = subset[\"avgCPUtime\"], yerr = subset[\"stdCPUtime\"])\n",
    "axes[0, 0].set_ylabel(\"n = \" + str(selectedDims[0]), size = \"large\")\n",
    "axes[0, 0].set_title(\"Data: \" + selectedCategories[0])\n",
    "axes[0, 0].grid(True)\n",
    "axes[0, 0].yaxis.set_major_formatter(FormatStrFormatter('%.2f'))\n",
    "\n",
    "subset = data[(data[\"category\"] == selectedCategories[1]) & (data[\"nDim\"] == selectedDims[0]) & (data[\"testId\"] == selectedTest) & (data[\"noise\"] == selectedNoise)]\n",
    "axes[0, 1].errorbar(x = subset[varPara], y = subset[\"avgContrast\"], yerr = subset[\"stdContrast\"])\n",
    "axes[0, 1].set_title(\"Data: \" + selectedCategories[1])\n",
    "axes[0, 1].grid(True)\n",
    "axes[0, 1].yaxis.set_major_formatter(FormatStrFormatter('%.2f'))\n",
    "\n",
    "subset = data[(data[\"category\"] == selectedCategories[2]) & (data[\"nDim\"] == selectedDims[0]) & (data[\"testId\"] == selectedTest) & (data[\"noise\"] == selectedNoise)]\n",
    "axes[0, 2].errorbar(x = subset[varPara], y = subset[\"avgContrast\"], yerr = subset[\"stdContrast\"])\n",
    "axes[0, 2].set_title(\"Data: \" + selectedCategories[2])\n",
    "axes[0, 2].grid(True)\n",
    "axes[0, 2].yaxis.set_major_formatter(FormatStrFormatter('%.2f'))\n",
    "\n",
    "# 2 Row \n",
    "subset = data[(data[\"category\"] == selectedCategories[0]) & (data[\"nDim\"] == selectedDims[1]) & (data[\"testId\"] == selectedTest) & (data[\"noise\"] == selectedNoise)]\n",
    "axes[1, 0].errorbar(x = subset[varPara], y = subset[\"avgContrast\"], yerr = subset[\"stdContrast\"])\n",
    "axes[1, 0].set_ylabel(\"n = \" + str(selectedDims[1]), size = \"large\")\n",
    "axes[1, 0].grid(True)\n",
    "axes[1, 0].yaxis.set_major_formatter(FormatStrFormatter('%.2f'))\n",
    "\n",
    "subset = data[(data[\"category\"] == selectedCategories[1]) & (data[\"nDim\"] == selectedDims[1]) & (data[\"testId\"] == selectedTest) & (data[\"noise\"] == selectedNoise)]\n",
    "axes[1, 1].errorbar(x = subset[varPara], y = subset[\"avgContrast\"], yerr = subset[\"stdContrast\"])\n",
    "axes[1, 1].grid(True)\n",
    "axes[1, 1].yaxis.set_major_formatter(FormatStrFormatter('%.2f'))\n",
    "\n",
    "subset = data[(data[\"category\"] == selectedCategories[2]) & (data[\"nDim\"] == selectedDims[1]) & (data[\"testId\"] == selectedTest) & (data[\"noise\"] == selectedNoise)]\n",
    "axes[1, 2].errorbar(x = subset[varPara], y = subset[\"avgContrast\"], yerr = subset[\"stdContrast\"])\n",
    "axes[1, 2].grid(True)\n",
    "axes[1, 2].yaxis.set_major_formatter(FormatStrFormatter('%.2f'))\n",
    "\n",
    "# 3 Row\n",
    "subset = data[(data[\"category\"] == selectedCategories[0]) & (data[\"nDim\"] == selectedDims[2]) & (data[\"testId\"] == selectedTest) & (data[\"noise\"] == selectedNoise)]\n",
    "axes[2, 0].errorbar(x = subset[varPara], y = subset[\"avgContrast\"], yerr = subset[\"stdContrast\"])\n",
    "axes[2, 0].set_ylabel(\"n = \" + str(selectedDims[2]), size = \"large\")\n",
    "axes[2, 0].set_xlabel(str(varPara))\n",
    "axes[2, 0].grid(True)\n",
    "axes[2, 0].yaxis.set_major_formatter(FormatStrFormatter('%.2f'))\n",
    "\n",
    "subset = data[(data[\"category\"] == selectedCategories[1]) & (data[\"nDim\"] == selectedDims[2]) & (data[\"testId\"] == selectedTest) & (data[\"noise\"] == selectedNoise)]\n",
    "axes[2, 1].errorbar(x = subset[varPara], y = subset[\"avgContrast\"], yerr = subset[\"stdContrast\"])\n",
    "axes[2, 1].set_xlabel(str(varPara))\n",
    "axes[2, 1].grid(True)\n",
    "axes[1, 1].yaxis.set_major_formatter(FormatStrFormatter('%.2f'))\n",
    "\n",
    "subset = data[(data[\"category\"] == selectedCategories[2]) & (data[\"nDim\"] == selectedDims[2]) & (data[\"testId\"] == selectedTest) & (data[\"noise\"] == selectedNoise)]\n",
    "axes[2, 2].errorbar(x = subset[varPara], y = subset[\"avgContrast\"], yerr = subset[\"stdContrast\"])\n",
    "axes[2, 2].set_xlabel(str(varPara))\n",
    "axes[2, 2].grid(True)\n",
    "axes[2, 2].yaxis.set_major_formatter(FormatStrFormatter('%.2f'))\n",
    "\n",
    "# Saving \n",
    "savestring = (\"Contrast \" + varPara + \"_Test \" + selectedTest + \"_\" + selectedCategories[0] + \" \" + selectedCategories[1] + \" \" \n",
    "              + selectedCategories[2] + \"_Noise \" + str(selectedNoise))\n",
    "savepath = \"plots/AlphaBeta/\"\n",
    "fig.savefig(savepath + savestring + \".pdf\", bbox_inches='tight')"
   ]
  },
  {
   "cell_type": "code",
   "execution_count": null,
   "metadata": {
    "collapsed": true
   },
   "outputs": [],
   "source": []
  }
 ],
 "metadata": {
  "kernelspec": {
   "display_name": "Python 3",
   "language": "python",
   "name": "python3"
  },
  "language_info": {
   "codemirror_mode": {
    "name": "ipython",
    "version": 3
   },
   "file_extension": ".py",
   "mimetype": "text/x-python",
   "name": "python",
   "nbconvert_exporter": "python",
   "pygments_lexer": "ipython3",
   "version": "3.6.6"
  },
  "varInspector": {
   "cols": {
    "lenName": 16,
    "lenType": 16,
    "lenVar": 40
   },
   "kernels_config": {
    "python": {
     "delete_cmd_postfix": "",
     "delete_cmd_prefix": "del ",
     "library": "var_list.py",
     "varRefreshCmd": "print(var_dic_list())"
    },
    "r": {
     "delete_cmd_postfix": ") ",
     "delete_cmd_prefix": "rm(",
     "library": "var_list.r",
     "varRefreshCmd": "cat(var_dic_list()) "
    }
   },
   "types_to_exclude": [
    "module",
    "function",
    "builtin_function_or_method",
    "instance",
    "_Feature"
   ],
   "window_display": false
  }
 },
 "nbformat": 4,
 "nbformat_minor": 2
}
