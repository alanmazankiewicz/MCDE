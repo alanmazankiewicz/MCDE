{
 "cells": [
  {
   "cell_type": "code",
   "execution_count": 1,
   "metadata": {
    "ExecuteTime": {
     "end_time": "2019-01-10T11:12:09.445688Z",
     "start_time": "2019-01-10T11:12:06.766719Z"
    },
    "collapsed": true
   },
   "outputs": [],
   "source": [
    "import pandas\n",
    "\n",
    "import seaborn as sns\n",
    "import matplotlib\n",
    "import matplotlib.pyplot as plt\n",
    "from matplotlib import rc\n",
    "from cycler import cycler\n",
    "\n",
    "rc('text', usetex=True)\n",
    "plt.style.use('seaborn-notebook')\n",
    "\n",
    "plt.rcParams['axes.titlesize'] = '25'\n",
    "plt.rcParams['axes.labelsize'] = '25' \n",
    "plt.rcParams['xtick.labelsize'] = '18'\n",
    "plt.rcParams['ytick.labelsize'] = '18'\n",
    "\n",
    "%matplotlib inline"
   ]
  },
  {
   "cell_type": "code",
   "execution_count": 2,
   "metadata": {
    "ExecuteTime": {
     "end_time": "2019-01-10T11:12:10.072152Z",
     "start_time": "2019-01-10T11:12:10.068174Z"
    },
    "collapsed": true
   },
   "outputs": [],
   "source": [
    "# Replace these variables accordingly \n",
    "path_to_results1 = \"../../experiments/bivariate/2018-11-17-12-52_BivariateScalabilityN_/\""
   ]
  },
  {
   "cell_type": "code",
   "execution_count": 3,
   "metadata": {
    "ExecuteTime": {
     "end_time": "2019-01-10T11:12:11.084298Z",
     "start_time": "2019-01-10T11:12:10.729426Z"
    },
    "collapsed": true
   },
   "outputs": [],
   "source": [
    "data = pandas.read_csv(path_to_results1 + \"BivariateScalabilityN.csv\", header=0)\n",
    "data[\"category\"] = [x.split(\"-\")[0] for x in data[\"refId\"]]"
   ]
  },
  {
   "cell_type": "code",
   "execution_count": 8,
   "metadata": {
    "ExecuteTime": {
     "end_time": "2018-12-14T17:20:08.827085Z",
     "start_time": "2018-12-14T17:20:07.594081Z"
    },
    "collapsed": true
   },
   "outputs": [],
   "source": [
    "# Sometimes an row may be a copy of the header. If this is the case comment out below lines. They will remove\n",
    "# the copies save and relode the cleaned data\n",
    "\n",
    "# data = data[data[\"refId\"] != \"refId\"]\n",
    "# data.to_csv(path_to_results1 + \"BivariateScalabilityN.csv\", index = False)\n",
    "# data = pandas.read_csv(path_to_results1 + \"BivariateScalabilityN.csv\", header=0)\n",
    "# data[\"category\"] = [x.split(\"-\")[0] for x in data[\"refId\"]]"
   ]
  },
  {
   "cell_type": "code",
   "execution_count": 20,
   "metadata": {
    "ExecuteTime": {
     "end_time": "2019-01-10T11:15:31.895387Z",
     "start_time": "2019-01-10T11:15:31.881308Z"
    }
   },
   "outputs": [
    {
     "data": {
      "text/plain": [
       "array(['HoeffdingsD', 'Kendalls Tau', 'MWPr', 'KS', 'MWP', 'MWPu',\n",
       "       'Spearman Correlation', 'Jensen Shannon Equity Width',\n",
       "       'Distance Correlation', 'Mutual Information', 'Correlation', 'MCE',\n",
       "       'Slope Inversion', 'Slope', 'HSM'], dtype=object)"
      ]
     },
     "execution_count": 20,
     "metadata": {},
     "output_type": "execute_result"
    }
   ],
   "source": [
    "data[\"testId\"].unique()"
   ]
  },
  {
   "cell_type": "code",
   "execution_count": 8,
   "metadata": {
    "ExecuteTime": {
     "end_time": "2019-01-10T11:13:21.492325Z",
     "start_time": "2019-01-10T11:13:21.483828Z"
    }
   },
   "outputs": [
    {
     "data": {
      "text/plain": [
       "array([   10,    20,    50,   100,   200,   300,   500,  1000,  2000,\n",
       "        3000,  5000, 10000])"
      ]
     },
     "execution_count": 8,
     "metadata": {},
     "output_type": "execute_result"
    }
   ],
   "source": [
    "data['n'].unique()"
   ]
  },
  {
   "cell_type": "code",
   "execution_count": 9,
   "metadata": {
    "ExecuteTime": {
     "end_time": "2019-01-10T11:13:23.709905Z",
     "start_time": "2019-01-10T11:13:23.579656Z"
    },
    "collapsed": true
   },
   "outputs": [],
   "source": [
    "data[\"TotalCPUtime\"] = data[\"CPUtime\"] + data[\"prepCPUtime\"]"
   ]
  },
  {
   "cell_type": "code",
   "execution_count": 10,
   "metadata": {
    "ExecuteTime": {
     "end_time": "2019-01-10T11:13:30.308604Z",
     "start_time": "2019-01-10T11:13:30.300794Z"
    },
    "collapsed": true
   },
   "outputs": [],
   "source": [
    "# selected tests are all beside MWPu & MWPr\n",
    "selectedTestDict = {\n",
    "    \"Correlation\" : \"Cor\", \n",
    "    \"Mutual Information\" : \"MI\", \n",
    "    \"Jensen Shannon Equity Width\" : \"EW\",\n",
    "    \"Distance Correlation\" : \"DCor\", \n",
    "    \"Slope\" : \"S\", \n",
    "    \"Slope Inversion\" : \"SI\", \n",
    "    \"Kendalls Tau\" : \"Tau\", \n",
    "    \"Spearman Correlation\" : \"SCor\", \n",
    "    \"MCE\" : \"MCE\", \n",
    "    \"MWP\" : \"MWP\", \n",
    "    \"KS\" : \"KS\", \n",
    "    \"HoeffdingsD\" : \"HD\", \n",
    "    \"HSM\" : \"HSM\"\n",
    "}"
   ]
  },
  {
   "cell_type": "code",
   "execution_count": 21,
   "metadata": {
    "ExecuteTime": {
     "end_time": "2019-01-10T11:15:41.511705Z",
     "start_time": "2019-01-10T11:15:41.365076Z"
    },
    "scrolled": false
   },
   "outputs": [
    {
     "name": "stderr",
     "output_type": "stream",
     "text": [
      "/Users/Mazan/anaconda/lib/python3.6/site-packages/ipykernel_launcher.py:2: SettingWithCopyWarning: \n",
      "A value is trying to be set on a copy of a slice from a DataFrame.\n",
      "Try using .loc[row_indexer,col_indexer] = value instead\n",
      "\n",
      "See the caveats in the documentation: http://pandas.pydata.org/pandas-docs/stable/indexing.html#indexing-view-versus-copy\n",
      "  \n"
     ]
    }
   ],
   "source": [
    "selectedData = data[[str(x) not in [\"MWPu\", \"MWPr\", \"S\"] for x in data[\"testId\"]]]\n",
    "selectedData[\"testId\"] = [selectedTestDict[x] for x in selectedData[\"testId\"]]"
   ]
  },
  {
   "cell_type": "code",
   "execution_count": 22,
   "metadata": {
    "ExecuteTime": {
     "end_time": "2019-01-10T11:15:44.231537Z",
     "start_time": "2019-01-10T11:15:44.197141Z"
    },
    "scrolled": true
   },
   "outputs": [
    {
     "data": {
      "text/html": [
       "<div>\n",
       "<style scoped>\n",
       "    .dataframe tbody tr th:only-of-type {\n",
       "        vertical-align: middle;\n",
       "    }\n",
       "\n",
       "    .dataframe tbody tr th {\n",
       "        vertical-align: top;\n",
       "    }\n",
       "\n",
       "    .dataframe thead th {\n",
       "        text-align: right;\n",
       "    }\n",
       "</style>\n",
       "<table border=\"1\" class=\"dataframe\">\n",
       "  <thead>\n",
       "    <tr style=\"text-align: right;\">\n",
       "      <th></th>\n",
       "      <th>refId</th>\n",
       "      <th>nDim</th>\n",
       "      <th>n</th>\n",
       "      <th>nRep</th>\n",
       "      <th>testId</th>\n",
       "      <th>alpha</th>\n",
       "      <th>M</th>\n",
       "      <th>Contrast</th>\n",
       "      <th>Walltime</th>\n",
       "      <th>CPUtime</th>\n",
       "      <th>prepWalltime</th>\n",
       "      <th>prepCPUtime</th>\n",
       "      <th>r</th>\n",
       "      <th>category</th>\n",
       "      <th>TotalCPUtime</th>\n",
       "    </tr>\n",
       "  </thead>\n",
       "  <tbody>\n",
       "    <tr>\n",
       "      <th>0</th>\n",
       "      <td>Independent-2-0.0</td>\n",
       "      <td>2</td>\n",
       "      <td>10</td>\n",
       "      <td>500</td>\n",
       "      <td>HD</td>\n",
       "      <td>NaN</td>\n",
       "      <td>NaN</td>\n",
       "      <td>0.234127</td>\n",
       "      <td>20.304419</td>\n",
       "      <td>7.323165</td>\n",
       "      <td>8.960131</td>\n",
       "      <td>0.559763</td>\n",
       "      <td>1</td>\n",
       "      <td>Independent</td>\n",
       "      <td>7.882928</td>\n",
       "    </tr>\n",
       "    <tr>\n",
       "      <th>1</th>\n",
       "      <td>Independent-2-0.0</td>\n",
       "      <td>2</td>\n",
       "      <td>10</td>\n",
       "      <td>500</td>\n",
       "      <td>Tau</td>\n",
       "      <td>NaN</td>\n",
       "      <td>NaN</td>\n",
       "      <td>0.511111</td>\n",
       "      <td>13.975886</td>\n",
       "      <td>5.701686</td>\n",
       "      <td>9.346017</td>\n",
       "      <td>0.465846</td>\n",
       "      <td>1</td>\n",
       "      <td>Independent</td>\n",
       "      <td>6.167532</td>\n",
       "    </tr>\n",
       "    <tr>\n",
       "      <th>3</th>\n",
       "      <td>Independent-2-0.0</td>\n",
       "      <td>2</td>\n",
       "      <td>10</td>\n",
       "      <td>500</td>\n",
       "      <td>KS</td>\n",
       "      <td>0.1</td>\n",
       "      <td>50.0</td>\n",
       "      <td>0.758000</td>\n",
       "      <td>41.121269</td>\n",
       "      <td>18.680498</td>\n",
       "      <td>12.111818</td>\n",
       "      <td>4.698796</td>\n",
       "      <td>1</td>\n",
       "      <td>Independent</td>\n",
       "      <td>23.379294</td>\n",
       "    </tr>\n",
       "    <tr>\n",
       "      <th>4</th>\n",
       "      <td>Independent-2-0.0</td>\n",
       "      <td>2</td>\n",
       "      <td>10</td>\n",
       "      <td>500</td>\n",
       "      <td>MWP</td>\n",
       "      <td>0.5</td>\n",
       "      <td>50.0</td>\n",
       "      <td>0.555337</td>\n",
       "      <td>40.588306</td>\n",
       "      <td>13.846549</td>\n",
       "      <td>19.818194</td>\n",
       "      <td>14.678476</td>\n",
       "      <td>1</td>\n",
       "      <td>Independent</td>\n",
       "      <td>28.525025</td>\n",
       "    </tr>\n",
       "    <tr>\n",
       "      <th>6</th>\n",
       "      <td>Independent-2-0.0</td>\n",
       "      <td>2</td>\n",
       "      <td>10</td>\n",
       "      <td>500</td>\n",
       "      <td>SCor</td>\n",
       "      <td>NaN</td>\n",
       "      <td>NaN</td>\n",
       "      <td>0.672727</td>\n",
       "      <td>645.834076</td>\n",
       "      <td>3.572556</td>\n",
       "      <td>8.838801</td>\n",
       "      <td>0.524580</td>\n",
       "      <td>1</td>\n",
       "      <td>Independent</td>\n",
       "      <td>4.097136</td>\n",
       "    </tr>\n",
       "  </tbody>\n",
       "</table>\n",
       "</div>"
      ],
      "text/plain": [
       "               refId  nDim   n  nRep testId  alpha     M  Contrast  \\\n",
       "0  Independent-2-0.0     2  10   500     HD    NaN   NaN  0.234127   \n",
       "1  Independent-2-0.0     2  10   500    Tau    NaN   NaN  0.511111   \n",
       "3  Independent-2-0.0     2  10   500     KS    0.1  50.0  0.758000   \n",
       "4  Independent-2-0.0     2  10   500    MWP    0.5  50.0  0.555337   \n",
       "6  Independent-2-0.0     2  10   500   SCor    NaN   NaN  0.672727   \n",
       "\n",
       "     Walltime    CPUtime  prepWalltime  prepCPUtime  r     category  \\\n",
       "0   20.304419   7.323165      8.960131     0.559763  1  Independent   \n",
       "1   13.975886   5.701686      9.346017     0.465846  1  Independent   \n",
       "3   41.121269  18.680498     12.111818     4.698796  1  Independent   \n",
       "4   40.588306  13.846549     19.818194    14.678476  1  Independent   \n",
       "6  645.834076   3.572556      8.838801     0.524580  1  Independent   \n",
       "\n",
       "   TotalCPUtime  \n",
       "0      7.882928  \n",
       "1      6.167532  \n",
       "3     23.379294  \n",
       "4     28.525025  \n",
       "6      4.097136  "
      ]
     },
     "execution_count": 22,
     "metadata": {},
     "output_type": "execute_result"
    }
   ],
   "source": [
    "selectedData.head()"
   ]
  },
  {
   "cell_type": "code",
   "execution_count": 35,
   "metadata": {
    "ExecuteTime": {
     "end_time": "2019-01-10T11:22:21.681997Z",
     "start_time": "2019-01-10T11:22:21.672290Z"
    },
    "collapsed": true
   },
   "outputs": [],
   "source": [
    "test = ['MWP', 'Cor', 'SCor', 'KS','DCor', 'HD', 'EW', 'Tau', 'SI', 'MI', 'MCE', 'HSM']\n",
    "test1 = test[:3]\n",
    "test2 = test[3:6]\n",
    "test3 = test[6:9]\n",
    "test4 = test[9:]\n",
    "tests = [test1, test2, test3, test4]\n",
    "\n",
    "col = [\"black\", \"darkred\", \"gray\", \"chocolate\", \"tan\", \"gold\",  \"mediumseagreen\", \"lightgreen\",\"lawngreen\",\n",
    "       \"lightseagreen\", \"steelblue\", \"indigo\"]\n",
    "col1 = col[:3]\n",
    "col2 = col[3:6]\n",
    "col3 = col[6:9]\n",
    "col4 = col[9:]\n",
    "cols = [col1, col2, col3, col4]"
   ]
  },
  {
   "cell_type": "code",
   "execution_count": 36,
   "metadata": {
    "ExecuteTime": {
     "end_time": "2019-01-10T11:22:27.369175Z",
     "start_time": "2019-01-10T11:22:21.857378Z"
    }
   },
   "outputs": [
    {
     "name": "stderr",
     "output_type": "stream",
     "text": [
      "/Users/Mazan/anaconda/lib/python3.6/site-packages/ipykernel_launcher.py:8: SettingWithCopyWarning: \n",
      "A value is trying to be set on a copy of a slice from a DataFrame.\n",
      "Try using .loc[row_indexer,col_indexer] = value instead\n",
      "\n",
      "See the caveats in the documentation: http://pandas.pydata.org/pandas-docs/stable/indexing.html#indexing-view-versus-copy\n",
      "  \n"
     ]
    },
    {
     "data": {
      "image/png": "[encoded data removed]",
      "text/plain": [
       "<matplotlib.figure.Figure at 0x1185caa90>"
      ]
     },
     "metadata": {},
     "output_type": "display_data"
    }
   ],
   "source": [
    "fig, axes = plt.subplots(nrows=1,ncols=4, figsize=(17,6), sharey=True)\n",
    "axess = axes.reshape(-1)\n",
    "\n",
    "fig.suptitle(\"Runtime of Bivariate Measures vs MCDE\", size = 24)\n",
    "\n",
    "for i in range(4):\n",
    "    subselectedData = selectedData[[str(x) in tests[i] for x in selectedData[\"testId\"]]]\n",
    "    subselectedData['n'] = subselectedData['n'] / 1000 \n",
    "    d = subselectedData.groupby([\"n\", \"testId\"])\n",
    "\n",
    "\n",
    "    means = d.mean()\n",
    "    errors = d.std()\n",
    "    ax = means.unstack().plot(y=\"TotalCPUtime\", logy=True, ax=axess[i], color = cols[i], marker = \".\", \n",
    "                              markersize = 10)\n",
    "\n",
    "    ax.set_ylabel(\"Runtime (ms)\")\n",
    "    ax.set_xlabel(\"$n*10^3$\")\n",
    "\n",
    "    ax.set_yticks([0.01, 0.1, 1, 10, 100, 1000, 10000])\n",
    "\n",
    "    ax.set_xticklabels([\"$0$\", \"$2.5$\", \"$5.0$\", \"$7.5$\", \"$10$\"])\n",
    "\n",
    "    ax.grid(True, linestyle='dotted', axis=\"y\")\n",
    "    \n",
    "plt.tight_layout()\n",
    "fig.subplots_adjust(top=0.80)\n",
    "plt.savefig(\"plots/BivariateFig10.pdf\")"
   ]
  },
  {
   "cell_type": "code",
   "execution_count": null,
   "metadata": {
    "collapsed": true
   },
   "outputs": [],
   "source": []
  }
 ],
 "metadata": {
  "kernelspec": {
   "display_name": "Python 3",
   "language": "python",
   "name": "python3"
  },
  "language_info": {
   "codemirror_mode": {
    "name": "ipython",
    "version": 3
   },
   "file_extension": ".py",
   "mimetype": "text/x-python",
   "name": "python",
   "nbconvert_exporter": "python",
   "pygments_lexer": "ipython3",
   "version": "3.6.6"
  },
  "varInspector": {
   "cols": {
    "lenName": 16,
    "lenType": 16,
    "lenVar": 40
   },
   "kernels_config": {
    "python": {
     "delete_cmd_postfix": "",
     "delete_cmd_prefix": "del ",
     "library": "var_list.py",
     "varRefreshCmd": "print(var_dic_list())"
    },
    "r": {
     "delete_cmd_postfix": ") ",
     "delete_cmd_prefix": "rm(",
     "library": "var_list.r",
     "varRefreshCmd": "cat(var_dic_list()) "
    }
   },
   "types_to_exclude": [
    "module",
    "function",
    "builtin_function_or_method",
    "instance",
    "_Feature"
   ],
   "window_display": false
  }
 },
 "nbformat": 4,
 "nbformat_minor": 2
}
